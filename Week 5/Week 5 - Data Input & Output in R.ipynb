{
 "cells": [
  {
   "cell_type": "markdown",
   "metadata": {},
   "source": [
    "![](logo.png)"
   ]
  },
  {
   "cell_type": "markdown",
   "metadata": {},
   "source": [
    "# <font color='red'>Data Input & Output in R</font>\n",
    "\n",
    "> ### CSV Input & Output\n",
    "> ### Excel Input & Output\n",
    "> ### SQL with R\n",
    "> ### Webscraping with R"
   ]
  },
  {
   "cell_type": "markdown",
   "metadata": {},
   "source": [
    "## Working Directories\n",
    "\n",
    "In order to read files into dataframes in R, the files and the jupyter notebook need to contained within the same folder. If the files are located in a different folder than the jupyter notebook, the working directory needs to be changed to that location. To get the current working directory (location on the computer) use the built-in R function **getwd()**. This will display the current location or path.\n",
    "\n",
    "To set a new path (location), use the built-in R function to change the directory to the location of the saved files you want to input to R."
   ]
  },
  {
   "cell_type": "code",
   "execution_count": null,
   "metadata": {},
   "outputs": [],
   "source": [
    "# Determine the current working directory\n",
    "getwd()"
   ]
  },
  {
   "cell_type": "code",
   "execution_count": null,
   "metadata": {},
   "outputs": [],
   "source": [
    "# Change working directory to new file path\n",
    "setwd('C:\\\\Users\\\\jcdunne\\\\NC State PB&G Dropbox\\\\Jeffrey Dunne\\\\CS590 Course Content')"
   ]
  },
  {
   "cell_type": "markdown",
   "metadata": {},
   "source": [
    "NOTE: Use double backslashes '\\\\' for the file path or use a single forward slash '/'"
   ]
  },
  {
   "cell_type": "code",
   "execution_count": null,
   "metadata": {},
   "outputs": [],
   "source": [
    "# Determine the current working directory\n",
    "getwd()"
   ]
  },
  {
   "cell_type": "code",
   "execution_count": null,
   "metadata": {},
   "outputs": [],
   "source": [
    "# Change working directory to new file path\n",
    "setwd('C:\\\\Users\\\\jcdunne\\\\NC State PB&G Dropbox\\\\Jeffrey Dunne\\\\CS590 Course Content\\\\Week 5\\\\R')"
   ]
  },
  {
   "cell_type": "markdown",
   "metadata": {},
   "source": [
    "# <font color='red'>CSV Input & Output</font>\n",
    "\n",
    "CSV stands for comma separated variable and its one of the most common ways we'll be working with data throughout the semester. The basic format of a csv file is the first line indicating the column names and the rest of the rows/lines being data points separated by commas. One of the most basic ways to read in csv files in R is to use read.csv() which is built-in to R. Later on we'll learn about fread which will be a bit faster and more convenient, but its important to understand all your options.\n",
    "\n",
    "When using read.csv() you'll need to either pass in the entire path of the file or have the file be in the same directory as your R script. Make sure to account for possible spaces in the file path name, you may need to use backslashes to account for this. This is often a point of confusion for people new to programming, so make sure you understand the above before continuing."
   ]
  },
  {
   "cell_type": "code",
   "execution_count": null,
   "metadata": {},
   "outputs": [],
   "source": [
    "# Pass in the entire file path if not in the same directory\n",
    "example <- read.csv('example.csv')"
   ]
  },
  {
   "cell_type": "code",
   "execution_count": null,
   "metadata": {},
   "outputs": [],
   "source": [
    "# Check the structure of the dataframe\n",
    "str(example)"
   ]
  },
  {
   "cell_type": "code",
   "execution_count": null,
   "metadata": {},
   "outputs": [],
   "source": [
    "# Check the column names\n",
    "colnames(example)"
   ]
  },
  {
   "cell_type": "code",
   "execution_count": null,
   "metadata": {},
   "outputs": [],
   "source": [
    "# Check the head of the example dataframe\n",
    "head(example)"
   ]
  },
  {
   "cell_type": "markdown",
   "metadata": {},
   "source": [
    "So we can now see how easy it is to read a csv, if we have another flat file format like a tab separated file (tab delimited), or some other sort of delimiter we can specify this when calling read.csv, form the documentation:\n",
    "\n",
    "read.table(file, header = FALSE, sep = \"\", quote = \"\\\"'\",\n",
    "       dec = \".\", numerals = c(\"allow.loss\", \"warn.loss\", \"no.loss\"),\n",
    "       row.names, col.names, as.is = !stringsAsFactors,\n",
    "       na.strings = \"NA\", colClasses = NA, nrows = -1,\n",
    "       skip = 0, check.names = TRUE, fill = !blank.lines.skip,\n",
    "       strip.white = FALSE, blank.lines.skip = TRUE,\n",
    "       comment.char = \"#\",\n",
    "       allowEscapes = FALSE, flush = FALSE,\n",
    "       stringsAsFactors = default.stringsAsFactors(),\n",
    "       fileEncoding = \"\", encoding = \"unknown\", text, skipNul = FALSE)"
   ]
  },
  {
   "cell_type": "code",
   "execution_count": null,
   "metadata": {},
   "outputs": [],
   "source": [
    "# View the read.csv help documentation\n",
    "help(read.csv)"
   ]
  },
  {
   "cell_type": "code",
   "execution_count": null,
   "metadata": {},
   "outputs": [],
   "source": [
    "# Universal help - Jupyter notebooks. Works for Python\n",
    "?read.csv"
   ]
  },
  {
   "cell_type": "markdown",
   "metadata": {},
   "source": [
    "## read.table\n",
    "\n",
    "The built-in R function **read.table()** is the general form of the built-in R function **read.csv**, in fact read.csv is actually just a thin wrapper around read.table which just makes it easier to use sometimes. For example:"
   ]
  },
  {
   "cell_type": "code",
   "execution_count": null,
   "metadata": {},
   "outputs": [],
   "source": [
    "# Read CSV using the read.table function\n",
    "read.table('example.csv')"
   ]
  },
  {
   "cell_type": "markdown",
   "metadata": {},
   "source": [
    "NOTE: There are errors in reading the file because there were no arguements determining the delimiter and the rows that determine the column names."
   ]
  },
  {
   "cell_type": "code",
   "execution_count": null,
   "metadata": {},
   "outputs": [],
   "source": [
    "# Adding the delimiter\n",
    "read.table('example.csv', sep=',')"
   ]
  },
  {
   "cell_type": "code",
   "execution_count": null,
   "metadata": {},
   "outputs": [],
   "source": [
    "# Adding the row that contains the column names\n",
    "read.table('example.csv', sep=',', header=TRUE)"
   ]
  },
  {
   "cell_type": "markdown",
   "metadata": {},
   "source": [
    "An alternative to using read.csv or read.table is the built-in R function **fread()**. In most situations you'll want to use fread() because it is faster and more convenient"
   ]
  },
  {
   "cell_type": "code",
   "execution_count": null,
   "metadata": {},
   "outputs": [],
   "source": [
    "# Load the library containing fread()\n",
    "library(\"data.table\")"
   ]
  },
  {
   "cell_type": "code",
   "execution_count": null,
   "metadata": {},
   "outputs": [],
   "source": [
    "# Run fread() to load example.csv\n",
    "fread('example.csv')"
   ]
  },
  {
   "cell_type": "markdown",
   "metadata": {},
   "source": [
    "## Output to CSV\n",
    "\n",
    "You can output your files to csv by using the built-in R function **write.csv()**"
   ]
  },
  {
   "cell_type": "code",
   "execution_count": null,
   "metadata": {},
   "outputs": [],
   "source": [
    "# Change name of example to df for output\n",
    "df <- example"
   ]
  },
  {
   "cell_type": "code",
   "execution_count": null,
   "metadata": {},
   "outputs": [],
   "source": [
    "write.csv(df, file = 'CSV output.csv')\n",
    "fread('CSV output.csv')"
   ]
  },
  {
   "cell_type": "markdown",
   "metadata": {},
   "source": [
    "NOTE: The index from df gets output along with the data. Use the row.names arguement to change the output of the csv file"
   ]
  },
  {
   "cell_type": "code",
   "execution_count": null,
   "metadata": {},
   "outputs": [],
   "source": [
    "# Export without row names i.e. the index positions\n",
    "write.csv(df, file = 'CSV output.csv', row.names = FALSE)\n",
    "fread('CSV output.csv')"
   ]
  },
  {
   "cell_type": "markdown",
   "metadata": {},
   "source": [
    "# <font color='red'>Excel Input & Output</font>\n",
    "\n",
    "R has the ability to read and write to excel, which makes it very convenient to work on the same datasets with colleagues who only know excel, meaning they can work with excel and hand you the files, then you work with them in R\n",
    "\n",
    "To do this, we need the readxl package for R. You can download it by using:\n",
    "\n",
    "install.packages('readxl')\n",
    "\n",
    "And then load the library using\n",
    "\n",
    "library('readxl')\n",
    "\n",
    "You may need to specify repos=\"http://cran.rstudio.com/\" as an argument in the packages call if you get a mirror error.\n",
    "\n",
    "Let's see how we can use this:"
   ]
  },
  {
   "cell_type": "code",
   "execution_count": null,
   "metadata": {},
   "outputs": [],
   "source": [
    "# In case you don't have readxl (you may not need to specify repos)\n",
    "#install.packages('readxl',repos=\"http://cran.rstudio.com/\")"
   ]
  },
  {
   "cell_type": "code",
   "execution_count": null,
   "metadata": {},
   "outputs": [],
   "source": [
    "# Load the readxl package\n",
    "library(readxl)"
   ]
  },
  {
   "cell_type": "code",
   "execution_count": null,
   "metadata": {},
   "outputs": [],
   "source": [
    "# list the sheets of the excel file\n",
    "excel_sheets('Peanut Database.xlsx')"
   ]
  },
  {
   "cell_type": "code",
   "execution_count": null,
   "metadata": {},
   "outputs": [],
   "source": [
    "# Call info from the sheets using read_excel\n",
    "df <- read_excel('Peanut Database.xlsx',sheet='NCSU Breeding Lines')"
   ]
  },
  {
   "cell_type": "code",
   "execution_count": null,
   "metadata": {},
   "outputs": [],
   "source": [
    "# Show the head of the dataframe\n",
    "head(df)"
   ]
  },
  {
   "cell_type": "code",
   "execution_count": null,
   "metadata": {},
   "outputs": [],
   "source": [
    "# Check the structure of the dataframe\n",
    "str(df)"
   ]
  },
  {
   "cell_type": "code",
   "execution_count": null,
   "metadata": {
    "scrolled": true
   },
   "outputs": [],
   "source": [
    "# Print a summary of the columns within the dataframe\n",
    "summary(df)"
   ]
  },
  {
   "cell_type": "markdown",
   "metadata": {},
   "source": [
    "If you had multiple sheets that you wanted to import into a list, you could do this with the built-in R function **lapply()**. We will learn more about lapply() later in the semester. This is just one use of this function."
   ]
  },
  {
   "cell_type": "code",
   "execution_count": null,
   "metadata": {},
   "outputs": [],
   "source": [
    "# Reading in multiple sheets from Peanut Database\n",
    "entire_workbook <- lapply(excel_sheets('Peanut Database.xlsx'), read_excel, path='Peanut Database.xlsx')"
   ]
  },
  {
   "cell_type": "code",
   "execution_count": null,
   "metadata": {},
   "outputs": [],
   "source": [
    "# Show the entire list:\n",
    "entire_workbook"
   ]
  },
  {
   "cell_type": "markdown",
   "metadata": {},
   "source": [
    "## Writing to Excel\n",
    "\n",
    "Writing to excel requires the xlsx package:"
   ]
  },
  {
   "cell_type": "code",
   "execution_count": null,
   "metadata": {},
   "outputs": [],
   "source": [
    "# Install the XLSX package\n",
    "install.packages('xlsx',repos=\"http://cran.rstudio.com/\")"
   ]
  },
  {
   "cell_type": "code",
   "execution_count": null,
   "metadata": {},
   "outputs": [],
   "source": [
    "# Load the XLSX library\n",
    "library(xlsx)"
   ]
  },
  {
   "cell_type": "code",
   "execution_count": null,
   "metadata": {},
   "outputs": [],
   "source": [
    "# Set example back to the dataframe\n",
    "df <- example"
   ]
  },
  {
   "cell_type": "code",
   "execution_count": null,
   "metadata": {},
   "outputs": [],
   "source": [
    "# Use write.xlsx() to output an excel formatted dataframe\n",
    "write.xlsx(df, \"output.xlsx\")"
   ]
  },
  {
   "cell_type": "code",
   "execution_count": null,
   "metadata": {},
   "outputs": [],
   "source": [
    "read_excel(\"output.xlsx\")"
   ]
  },
  {
   "cell_type": "markdown",
   "metadata": {},
   "source": [
    "# <font color='red'>SQL with R</font>\n",
    "\n",
    "This will actually be a brief section, because connecting R to a SQL database is completely dependent on the type of database you are using (MYSQL, Oracle, etc...).\n",
    "\n",
    "So instead of trying to cover all of these (since each requires a different package), we'll use this section to point you in the right direction for various database types, once you've downloaded the correct library, actually connecting is usually quite simple, then its just a matter of passing in SQL queries through R.\n",
    "\n",
    "We'll show a general version using the DBI package, then point to more specific resources."
   ]
  },
  {
   "cell_type": "markdown",
   "metadata": {},
   "source": [
    "## RODBC - General Use\n",
    "\n",
    "The RODBC library is one way of connecting to databases. Regardless of what you decide to use, I highly recommend a google search consisting of your database of choice + R. Here's an example use of RODBC"
   ]
  },
  {
   "cell_type": "code",
   "execution_count": null,
   "metadata": {},
   "outputs": [],
   "source": [
    "install.packages(\"RODBC\") \n",
    "# RODBC Example of syntax\n",
    "library(RODBC)\n",
    "\n",
    "myconn <-odbcConnect(\"Database_Name\", uid=\"User_ID\", pwd=\"password\")\n",
    "dat <- sqlFetch(myconn, \"Table_Name\")\n",
    "querydat <- sqlQuery(myconn, \"SELECT * FROM table\")\n",
    "close(myconn)"
   ]
  },
  {
   "cell_type": "markdown",
   "metadata": {},
   "source": [
    "### MySQL\n",
    "The RMySQL package provides an interface to MySQL.\n",
    "\n",
    "### Oracle\n",
    "The ROracle package provides an interface for Oracle.\n",
    "\n",
    "### JDBC\n",
    "The RJDBC package provides access to databases through a JDBC interface.\n",
    "\n",
    "Google is the best way to go for your personal situation since databases and your permissions can differ extensively."
   ]
  },
  {
   "cell_type": "markdown",
   "metadata": {},
   "source": [
    "# <font color='red'>Webscraping with R</font>\n",
    "\n",
    "**NOTE: TO FULLY UNDERSTAND THIS SECTION YOU WILL NEED TO KNOW HTML AND CSS, YOU WILL ALSO NEED TO KNOW THE PIPE OPERATOR IN R (%>%). COME BACK TO THIS SECTION AFTER WE COVER THAT MATERIAL**\n",
    "\n",
    "Web Scraping in general is almost always going to be unique to your personal use case, this is because every website is different, updates occur, and things can change. To fully understand webscraping in R, you'll need to understand HTML and CSS in order to know what you are trying to grab off the website.\n",
    "\n",
    "If you don't know HTML or CSS, you may be able to use an auto-web-scrape tool, like import.io. Check it out, it will auto scrape and create a csv file for you."
   ]
  },
  {
   "cell_type": "markdown",
   "metadata": {},
   "source": [
    "## rvest library\n",
    "Below is a simple example of using rvest, but the best way to see a good demo of rvest is through the built-in demos by using:"
   ]
  },
  {
   "cell_type": "code",
   "execution_count": 36,
   "metadata": {},
   "outputs": [],
   "source": [
    "# Use the provided demo of rvest\n",
    "demo(package='rvest')"
   ]
  },
  {
   "cell_type": "markdown",
   "metadata": {},
   "source": [
    "Now if you are familiar with HTML and CSS a very useful library is rvest. Below we will go over a simple example:"
   ]
  },
  {
   "cell_type": "code",
   "execution_count": 37,
   "metadata": {},
   "outputs": [
    {
     "name": "stdout",
     "output_type": "stream",
     "text": [
      "package 'rvest' successfully unpacked and MD5 sums checked\n",
      "\n",
      "The downloaded binary packages are in\n",
      "\tC:\\Users\\jcdunne\\AppData\\Local\\Temp\\Rtmp6FNWLo\\downloaded_packages\n"
     ]
    }
   ],
   "source": [
    "# Install rvest package and dependencies\n",
    "install.packages('rvest')"
   ]
  },
  {
   "cell_type": "markdown",
   "metadata": {},
   "source": [
    "Imagine we’d like to scrape some information about The Lego Movie from IMDB. We start by downloading and parsing the file with html():"
   ]
  },
  {
   "cell_type": "code",
   "execution_count": 38,
   "metadata": {},
   "outputs": [
    {
     "name": "stderr",
     "output_type": "stream",
     "text": [
      "Loading required package: xml2\n"
     ]
    }
   ],
   "source": [
    "# Load rvest library\n",
    "library(rvest)\n",
    "# Pull the html information from the Lego movie\n",
    "lego_movie <- read_html(\"http://www.imdb.com/title/tt1490017/\")"
   ]
  },
  {
   "cell_type": "markdown",
   "metadata": {},
   "source": [
    "To extract the rating, we start with SelectorGadget to figure out which css selector matches the data we want: strong span. (If you haven’t heard of selectorgadget, make sure to read \"SelectorGadget\" – it’s the easiest way to determine which selector extracts the data that you’re interested in.) We use html_node() to find the first node that matches that selector, extract its contents with html_text(), and convert it to numeric with as.numeric():"
   ]
  },
  {
   "cell_type": "code",
   "execution_count": 39,
   "metadata": {},
   "outputs": [
    {
     "data": {
      "text/html": [
       "7.8"
      ],
      "text/latex": [
       "7.8"
      ],
      "text/markdown": [
       "7.8"
      ],
      "text/plain": [
       "[1] 7.8"
      ]
     },
     "metadata": {},
     "output_type": "display_data"
    }
   ],
   "source": [
    "# Use the pipe operator in R %>% to pipe together each of the arguements for extracting the lego movie rating\n",
    "lego_movie %>% \n",
    "  html_node(\"strong span\") %>%\n",
    "  html_text() %>%\n",
    "  as.numeric()"
   ]
  },
  {
   "cell_type": "markdown",
   "metadata": {},
   "source": [
    "We use a similar process to extract the cast, using html_nodes() to find all nodes that match the selector: The cast is found within table 1 of the HTML output. We can use html_node() and [[ ]] to find it, then coerce it to a data frame with html_table():"
   ]
  },
  {
   "cell_type": "code",
   "execution_count": 40,
   "metadata": {},
   "outputs": [
    {
     "data": {
      "text/html": [
       "<table>\n",
       "<caption>A data.frame: 15 × 4</caption>\n",
       "<thead>\n",
       "\t<tr><th scope=col>Cast overview, first billed only:</th><th scope=col>Cast overview, first billed only:</th><th scope=col>Cast overview, first billed only:</th><th scope=col>Cast overview, first billed only:</th></tr>\n",
       "\t<tr><th scope=col>&lt;lgl&gt;</th><th scope=col>&lt;chr&gt;</th><th scope=col>&lt;chr&gt;</th><th scope=col>&lt;chr&gt;</th></tr>\n",
       "</thead>\n",
       "<tbody>\n",
       "\t<tr><td>NA</td><td>Will Arnett    </td><td>...</td><td>Batman /  \n",
       "            Bruce Wayne \n",
       "  \n",
       "  \n",
       "  (voice)                                                </td></tr>\n",
       "\t<tr><td>NA</td><td>Elizabeth Banks</td><td>...</td><td>Wyldstyle /  \n",
       "            Lucy \n",
       "  \n",
       "  \n",
       "  (voice)                                                    </td></tr>\n",
       "\t<tr><td>NA</td><td>Craig Berry    </td><td>...</td><td>Blake /  \n",
       "            Additional Voices \n",
       "  \n",
       "  \n",
       "  (voice)                                           </td></tr>\n",
       "\t<tr><td>NA</td><td>Alison Brie    </td><td>...</td><td>Unikitty \n",
       "  \n",
       "  \n",
       "  (voice)                                                                           </td></tr>\n",
       "\t<tr><td>NA</td><td>David Burrows  </td><td>...</td><td>Octan Robot /  \n",
       "            Additional Voices \n",
       "  \n",
       "  \n",
       "  (voice)                                     </td></tr>\n",
       "\t<tr><td>NA</td><td>Anthony Daniels</td><td>...</td><td>C-3PO \n",
       "  \n",
       "  \n",
       "  (voice)                                                                              </td></tr>\n",
       "\t<tr><td>NA</td><td>Charlie Day    </td><td>...</td><td>Benny \n",
       "  \n",
       "  \n",
       "  (voice)                                                                              </td></tr>\n",
       "\t<tr><td>NA</td><td>Amanda Farinos </td><td>...</td><td>Mom \n",
       "  \n",
       "  \n",
       "  (voice)                                                                                </td></tr>\n",
       "\t<tr><td>NA</td><td>Keith Ferguson </td><td>...</td><td>Han Solo \n",
       "  \n",
       "  \n",
       "  (voice)                                                                           </td></tr>\n",
       "\t<tr><td>NA</td><td>Will Ferrell   </td><td>...</td><td>Lord Business /  \n",
       "            President Business /  \n",
       "            The Man Upstairs \n",
       "  \n",
       "  \n",
       "  (voice)</td></tr>\n",
       "\t<tr><td>NA</td><td>Will Forte     </td><td>...</td><td>Abraham Lincoln \n",
       "  \n",
       "  \n",
       "  (voice) (as Orville Forte)                                                 </td></tr>\n",
       "\t<tr><td>NA</td><td>Dave Franco    </td><td>...</td><td>Wally \n",
       "  \n",
       "  \n",
       "  (voice)                                                                              </td></tr>\n",
       "\t<tr><td>NA</td><td>Morgan Freeman </td><td>...</td><td>Vitruvius \n",
       "  \n",
       "  \n",
       "  (voice)                                                                          </td></tr>\n",
       "\t<tr><td>NA</td><td>Todd Hansen    </td><td>...</td><td>Gandalf /  \n",
       "            Additional Voices \n",
       "  \n",
       "  \n",
       "  (voice)                                         </td></tr>\n",
       "\t<tr><td>NA</td><td>Jonah Hill     </td><td>...</td><td>Green Lantern \n",
       "  \n",
       "  \n",
       "  (voice)                                                                      </td></tr>\n",
       "</tbody>\n",
       "</table>\n"
      ],
      "text/latex": [
       "A data.frame: 15 × 4\n",
       "\\begin{tabular}{r|llll}\n",
       " Cast overview, first billed only: & Cast overview, first billed only: & Cast overview, first billed only: & Cast overview, first billed only:\\\\\n",
       " <lgl> & <chr> & <chr> & <chr>\\\\\n",
       "\\hline\n",
       "\t NA & Will Arnett     & ... & Batman /  \n",
       "            Bruce Wayne \n",
       "  \n",
       "  \n",
       "  (voice)                                                \\\\\n",
       "\t NA & Elizabeth Banks & ... & Wyldstyle /  \n",
       "            Lucy \n",
       "  \n",
       "  \n",
       "  (voice)                                                    \\\\\n",
       "\t NA & Craig Berry     & ... & Blake /  \n",
       "            Additional Voices \n",
       "  \n",
       "  \n",
       "  (voice)                                           \\\\\n",
       "\t NA & Alison Brie     & ... & Unikitty \n",
       "  \n",
       "  \n",
       "  (voice)                                                                           \\\\\n",
       "\t NA & David Burrows   & ... & Octan Robot /  \n",
       "            Additional Voices \n",
       "  \n",
       "  \n",
       "  (voice)                                     \\\\\n",
       "\t NA & Anthony Daniels & ... & C-3PO \n",
       "  \n",
       "  \n",
       "  (voice)                                                                              \\\\\n",
       "\t NA & Charlie Day     & ... & Benny \n",
       "  \n",
       "  \n",
       "  (voice)                                                                              \\\\\n",
       "\t NA & Amanda Farinos  & ... & Mom \n",
       "  \n",
       "  \n",
       "  (voice)                                                                                \\\\\n",
       "\t NA & Keith Ferguson  & ... & Han Solo \n",
       "  \n",
       "  \n",
       "  (voice)                                                                           \\\\\n",
       "\t NA & Will Ferrell    & ... & Lord Business /  \n",
       "            President Business /  \n",
       "            The Man Upstairs \n",
       "  \n",
       "  \n",
       "  (voice)\\\\\n",
       "\t NA & Will Forte      & ... & Abraham Lincoln \n",
       "  \n",
       "  \n",
       "  (voice) (as Orville Forte)                                                 \\\\\n",
       "\t NA & Dave Franco     & ... & Wally \n",
       "  \n",
       "  \n",
       "  (voice)                                                                              \\\\\n",
       "\t NA & Morgan Freeman  & ... & Vitruvius \n",
       "  \n",
       "  \n",
       "  (voice)                                                                          \\\\\n",
       "\t NA & Todd Hansen     & ... & Gandalf /  \n",
       "            Additional Voices \n",
       "  \n",
       "  \n",
       "  (voice)                                         \\\\\n",
       "\t NA & Jonah Hill      & ... & Green Lantern \n",
       "  \n",
       "  \n",
       "  (voice)                                                                      \\\\\n",
       "\\end{tabular}\n"
      ],
      "text/markdown": [
       "\n",
       "A data.frame: 15 × 4\n",
       "\n",
       "| Cast overview, first billed only: &lt;lgl&gt; | Cast overview, first billed only: &lt;chr&gt; | Cast overview, first billed only: &lt;chr&gt; | Cast overview, first billed only: &lt;chr&gt; |\n",
       "|---|---|---|---|\n",
       "| NA | Will Arnett     | ... | Batman /  \n",
       "            Bruce Wayne \n",
       "  \n",
       "  \n",
       "  (voice)                                                 |\n",
       "| NA | Elizabeth Banks | ... | Wyldstyle /  \n",
       "            Lucy \n",
       "  \n",
       "  \n",
       "  (voice)                                                     |\n",
       "| NA | Craig Berry     | ... | Blake /  \n",
       "            Additional Voices \n",
       "  \n",
       "  \n",
       "  (voice)                                            |\n",
       "| NA | Alison Brie     | ... | Unikitty \n",
       "  \n",
       "  \n",
       "  (voice)                                                                            |\n",
       "| NA | David Burrows   | ... | Octan Robot /  \n",
       "            Additional Voices \n",
       "  \n",
       "  \n",
       "  (voice)                                      |\n",
       "| NA | Anthony Daniels | ... | C-3PO \n",
       "  \n",
       "  \n",
       "  (voice)                                                                               |\n",
       "| NA | Charlie Day     | ... | Benny \n",
       "  \n",
       "  \n",
       "  (voice)                                                                               |\n",
       "| NA | Amanda Farinos  | ... | Mom \n",
       "  \n",
       "  \n",
       "  (voice)                                                                                 |\n",
       "| NA | Keith Ferguson  | ... | Han Solo \n",
       "  \n",
       "  \n",
       "  (voice)                                                                            |\n",
       "| NA | Will Ferrell    | ... | Lord Business /  \n",
       "            President Business /  \n",
       "            The Man Upstairs \n",
       "  \n",
       "  \n",
       "  (voice) |\n",
       "| NA | Will Forte      | ... | Abraham Lincoln \n",
       "  \n",
       "  \n",
       "  (voice) (as Orville Forte)                                                  |\n",
       "| NA | Dave Franco     | ... | Wally \n",
       "  \n",
       "  \n",
       "  (voice)                                                                               |\n",
       "| NA | Morgan Freeman  | ... | Vitruvius \n",
       "  \n",
       "  \n",
       "  (voice)                                                                           |\n",
       "| NA | Todd Hansen     | ... | Gandalf /  \n",
       "            Additional Voices \n",
       "  \n",
       "  \n",
       "  (voice)                                          |\n",
       "| NA | Jonah Hill      | ... | Green Lantern \n",
       "  \n",
       "  \n",
       "  (voice)                                                                       |\n",
       "\n"
      ],
      "text/plain": [
       "   Cast overview, first billed only: Cast overview, first billed only:\n",
       "1  NA                                Will Arnett                      \n",
       "2  NA                                Elizabeth Banks                  \n",
       "3  NA                                Craig Berry                      \n",
       "4  NA                                Alison Brie                      \n",
       "5  NA                                David Burrows                    \n",
       "6  NA                                Anthony Daniels                  \n",
       "7  NA                                Charlie Day                      \n",
       "8  NA                                Amanda Farinos                   \n",
       "9  NA                                Keith Ferguson                   \n",
       "10 NA                                Will Ferrell                     \n",
       "11 NA                                Will Forte                       \n",
       "12 NA                                Dave Franco                      \n",
       "13 NA                                Morgan Freeman                   \n",
       "14 NA                                Todd Hansen                      \n",
       "15 NA                                Jonah Hill                       \n",
       "   Cast overview, first billed only:\n",
       "1  ...                              \n",
       "2  ...                              \n",
       "3  ...                              \n",
       "4  ...                              \n",
       "5  ...                              \n",
       "6  ...                              \n",
       "7  ...                              \n",
       "8  ...                              \n",
       "9  ...                              \n",
       "10 ...                              \n",
       "11 ...                              \n",
       "12 ...                              \n",
       "13 ...                              \n",
       "14 ...                              \n",
       "15 ...                              \n",
       "   Cast overview, first billed only:                                                                      \n",
       "1  Batman /  \\n            Bruce Wayne \\n  \\n  \\n  (voice)                                                \n",
       "2  Wyldstyle /  \\n            Lucy \\n  \\n  \\n  (voice)                                                    \n",
       "3  Blake /  \\n            Additional Voices \\n  \\n  \\n  (voice)                                           \n",
       "4  Unikitty \\n  \\n  \\n  (voice)                                                                           \n",
       "5  Octan Robot /  \\n            Additional Voices \\n  \\n  \\n  (voice)                                     \n",
       "6  C-3PO \\n  \\n  \\n  (voice)                                                                              \n",
       "7  Benny \\n  \\n  \\n  (voice)                                                                              \n",
       "8  Mom \\n  \\n  \\n  (voice)                                                                                \n",
       "9  Han Solo \\n  \\n  \\n  (voice)                                                                           \n",
       "10 Lord Business /  \\n            President Business /  \\n            The Man Upstairs \\n  \\n  \\n  (voice)\n",
       "11 Abraham Lincoln \\n  \\n  \\n  (voice) (as Orville Forte)                                                 \n",
       "12 Wally \\n  \\n  \\n  (voice)                                                                              \n",
       "13 Vitruvius \\n  \\n  \\n  (voice)                                                                          \n",
       "14 Gandalf /  \\n            Additional Voices \\n  \\n  \\n  (voice)                                         \n",
       "15 Green Lantern \\n  \\n  \\n  (voice)                                                                      "
      ]
     },
     "metadata": {},
     "output_type": "display_data"
    }
   ],
   "source": [
    "lego_movie %>%\n",
    "  html_nodes(\"table\") %>%\n",
    "  .[[1]] %>%\n",
    "  html_table(header = TRUE)"
   ]
  },
  {
   "cell_type": "code",
   "execution_count": null,
   "metadata": {},
   "outputs": [],
   "source": []
  }
 ],
 "metadata": {
  "kernelspec": {
   "display_name": "R",
   "language": "R",
   "name": "ir"
  },
  "language_info": {
   "codemirror_mode": "r",
   "file_extension": ".r",
   "mimetype": "text/x-r-source",
   "name": "R",
   "pygments_lexer": "r",
   "version": "3.6.1"
  }
 },
 "nbformat": 4,
 "nbformat_minor": 2
}
