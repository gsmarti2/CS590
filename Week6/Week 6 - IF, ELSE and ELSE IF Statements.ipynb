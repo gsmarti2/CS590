{
 "cells": [
  {
   "cell_type": "markdown",
   "metadata": {},
   "source": [
    "![](logo.png)"
   ]
  },
  {
   "cell_type": "markdown",
   "metadata": {},
   "source": [
    "# <font color='red'>IF, ELSE IF, ELSE Statements</font>\n",
    "\n",
    "If Statements in R allows us to tell the computer to perform alternative actions based on a certain set of results.\n",
    "<br>Verbally, imagine telling the computer:\n",
    "> \"Hey if this case happens, perform some action\" - This can be considered a conditional statement\n",
    "\n",
    "We can then expand the idea further with else if and else statements, which allow us to tell the computer:\n",
    "\n",
    "> \"Hey if this case happens, perform some action. Else, if another case happens, perform some other action. Else, if none of the above cases happened, perform this action.\"\n",
    "\n",
    "Take a look at the syntax format for if statements to get a better idea of this:\n",
    "\n",
    "if (case1){\n",
    "    <br>perform action1\n",
    "<br>}elif (case2){\n",
    "    <br>perform action2\n",
    "<br>}else{ \n",
    "    <br>perform action3\n",
    "<br>}\n",
    "\n",
    "**NOTE: Unlike Python, the structure of an if,else (else if) statement DOES NOT rely on proper indentation. Simply enclosing the action with {} closes the statement/results of the condition**"
   ]
  },
  {
   "cell_type": "markdown",
   "metadata": {},
   "source": [
    "# <font color='red'>Basic Syntax</font>\n",
    "\n",
    "Now it is time to finally start learning how we can program some sort of logic using R. Our first step in this learning these programming skills will be simple if, else, and else if statements.\n",
    "\n",
    "Here is the syntax for an if statement in R:\n",
    "\n",
    "if (condition){\n",
    "    # Execute some code\n",
    "}\n",
    "\n",
    "So what does this actually mean if you've never seen an if statement before? It means that we can begin to apply some simple logic to our code. We say if some condition is true then execute the code inside of the curly brackets.\n",
    "\n",
    "For example, let's say we have two variables, hot and temp. Imagine that hot starts off as FALSE and temp is some number in degrees. If the temp is greater than 80 than we want to assign hot==TRUE."
   ]
  },
  {
   "cell_type": "code",
   "execution_count": 1,
   "metadata": {},
   "outputs": [],
   "source": [
    "hot <- FALSE\n",
    "temp <- 60"
   ]
  },
  {
   "cell_type": "code",
   "execution_count": 3,
   "metadata": {},
   "outputs": [
    {
     "data": {
      "text/html": [
       "FALSE"
      ],
      "text/latex": [
       "FALSE"
      ],
      "text/markdown": [
       "FALSE"
      ],
      "text/plain": [
       "[1] FALSE"
      ]
     },
     "metadata": {},
     "output_type": "display_data"
    }
   ],
   "source": [
    "if (temp > 80){\n",
    "    hot <- TRUE\n",
    "}\n",
    "hot"
   ]
  },
  {
   "cell_type": "code",
   "execution_count": 4,
   "metadata": {},
   "outputs": [
    {
     "data": {
      "text/html": [
       "TRUE"
      ],
      "text/latex": [
       "TRUE"
      ],
      "text/markdown": [
       "TRUE"
      ],
      "text/plain": [
       "[1] TRUE"
      ]
     },
     "metadata": {},
     "output_type": "display_data"
    }
   ],
   "source": [
    "# Reset Temp\n",
    "temp <- 100\n",
    "\n",
    "if (temp > 80){\n",
    "    hot <- TRUE\n",
    "}\n",
    "hot"
   ]
  },
  {
   "cell_type": "markdown",
   "metadata": {},
   "source": [
    "NOTE: Format your code carefully so you can come back later on and easily read it. By convention, try to align the closing bracket with the if statement to which it refers. However, because we use brackets (instead of indentation) the coding could be sloppy but could still work out fine"
   ]
  },
  {
   "cell_type": "code",
   "execution_count": 1,
   "metadata": {},
   "outputs": [
    {
     "name": "stdout",
     "output_type": "stream",
     "text": [
      "[1] \"Hello\"\n"
     ]
    }
   ],
   "source": [
    "if( 1 == 1){        print('Hello')}"
   ]
  },
  {
   "cell_type": "code",
   "execution_count": 2,
   "metadata": {},
   "outputs": [
    {
     "name": "stdout",
     "output_type": "stream",
     "text": [
      "[1] \"Hello\"\n"
     ]
    }
   ],
   "source": [
    "if(1 ==   1)\n",
    "\n",
    "{\n",
    "\n",
    "    print('Hello')\n",
    "\n",
    "             }\n",
    "\n",
    "# This works...but hard to read"
   ]
  },
  {
   "cell_type": "markdown",
   "metadata": {},
   "source": [
    "A good editor specifically for R, like RStudio, will help you make sure everything is aligned well."
   ]
  },
  {
   "cell_type": "markdown",
   "metadata": {},
   "source": [
    "Adding **else** to the syntax\n",
    "\n",
    "If we want to execute another block that occurs if the if statement is false, we can use an else statement to do this! It has the syntax:\n",
    "\n",
    "if (condition) {\n",
    "<br>Code to execute if true\n",
    "<br>} else {\n",
    "<br>Code to execute if above was not true\n",
    "<br>}\n",
    "\n",
    "Notice the alignment of the curly brackets and the use of the else keyword. Let's see it in action!"
   ]
  },
  {
   "cell_type": "code",
   "execution_count": 9,
   "metadata": {},
   "outputs": [
    {
     "name": "stdout",
     "output_type": "stream",
     "text": [
      "[1] \"Not a bad day for combining!\"\n"
     ]
    }
   ],
   "source": [
    "temp <- 75\n",
    "\n",
    "if (temp > 95){\n",
    "    print('Too hot to pick peanuts :-(')\n",
    "} else{\n",
    "    print('Not a bad day for combining!')\n",
    "}"
   ]
  },
  {
   "cell_type": "markdown",
   "metadata": {},
   "source": [
    "# <font color='red'>Multiple Branches</font>\n",
    "\n",
    "What if we wanted more options to print out more than just the **if** and the **else**? This is where we can use the **else if** statement to add multiple condition checks, using else at the end to execute code if none of our conditions match up with and if or else if."
   ]
  },
  {
   "cell_type": "code",
   "execution_count": 11,
   "metadata": {},
   "outputs": [
    {
     "name": "stdout",
     "output_type": "stream",
     "text": [
      "[1] \"Global warming needs to happen faster!\"\n"
     ]
    }
   ],
   "source": [
    "temp <- 75\n",
    "\n",
    "if (temp > 80){\n",
    "    print(\"Hot day for peanut picking\")\n",
    "} else if(temp<80 & temp>50){\n",
    "    print('Perfect for combining peanuts!')\n",
    "} else if(temp <50 & temp > 32){\n",
    "    print(\"Is this Michigan weather?\")\n",
    "} else{\n",
    "    print(\"Global warming needs to happen faster!\")\n",
    "}"
   ]
  },
  {
   "cell_type": "code",
   "execution_count": null,
   "metadata": {},
   "outputs": [],
   "source": [
    "temp <- 30\n",
    "\n",
    "if (temp > 80){\n",
    "    print(\"Hot day for peanut picking\")\n",
    "} else if(temp<80 & temp>50){\n",
    "    print('Perfect for combining peanuts!')\n",
    "} else if(temp <50 & temp > 32){\n",
    "    print(\"Is this Michigan weather?\")\n",
    "} else{\n",
    "    print(\"Global warming needs to happen faster!\")\n",
    "}"
   ]
  },
  {
   "cell_type": "code",
   "execution_count": 16,
   "metadata": {},
   "outputs": [],
   "source": [
    "# Multiple conditions in the if, else if and else statement\n",
    "line <- 'N14023'\n",
    "yield <- 5800\n",
    "leaf_spot <- 2.5\n",
    "\n",
    "report <- 'blank'\n",
    "\n",
    "if(yield >= 5500 & leaf_spot <= 3){\n",
    "    report <- paste('Release',line)\n",
    "} else if (yield >= 5500 & leaf_spot > 3){\n",
    "    report <- paste(line,'is a good agronomic parent')\n",
    "} else if (yield <= 5500 & leaf_spot <= 3){\n",
    "    report <- paste(line,'is a good disease resistant parent')\n",
    "} else {\n",
    "    report <- paste('Drop',line)\n",
    "}"
   ]
  },
  {
   "cell_type": "code",
   "execution_count": 20,
   "metadata": {},
   "outputs": [
    {
     "data": {
      "text/html": [
       "<ol>\n",
       "\t<li>'N14023'</li>\n",
       "</ol>\n"
      ],
      "text/latex": [
       "\\begin{enumerate}\n",
       "\\item 'N14023'\n",
       "\\end{enumerate}\n"
      ],
      "text/markdown": [
       "1. 'N14023'\n",
       "\n",
       "\n"
      ],
      "text/plain": [
       "[[1]]\n",
       "[1] \"N14023\"\n"
      ]
     },
     "metadata": {},
     "output_type": "display_data"
    }
   ],
   "source": [
    "test[[1]][1]"
   ]
  },
  {
   "cell_type": "markdown",
   "metadata": {},
   "source": [
    "# <font color='red'>Working with Dataframes</font>\n",
    "\n",
    "**if**, **else**, **else if** statements can be used to determine conditions of indexed values in dataframes"
   ]
  },
  {
   "cell_type": "code",
   "execution_count": 23,
   "metadata": {},
   "outputs": [],
   "source": [
    "lines <- c('Bailey','Bailey II','Sullivan','Emery') \n",
    "yield <- c(5100, 5600, 5200, 4900)\n",
    "peanuts <- data.frame(lines,yield)"
   ]
  },
  {
   "cell_type": "code",
   "execution_count": 24,
   "metadata": {},
   "outputs": [
    {
     "data": {
      "text/html": [
       "<table>\n",
       "<caption>A data.frame: 4 × 2</caption>\n",
       "<thead>\n",
       "\t<tr><th scope=col>lines</th><th scope=col>yield</th></tr>\n",
       "\t<tr><th scope=col>&lt;fct&gt;</th><th scope=col>&lt;dbl&gt;</th></tr>\n",
       "</thead>\n",
       "<tbody>\n",
       "\t<tr><td>Bailey   </td><td>5100</td></tr>\n",
       "\t<tr><td>Bailey II</td><td>5600</td></tr>\n",
       "\t<tr><td>Sullivan </td><td>5200</td></tr>\n",
       "\t<tr><td>Emery    </td><td>4900</td></tr>\n",
       "</tbody>\n",
       "</table>\n"
      ],
      "text/latex": [
       "A data.frame: 4 × 2\n",
       "\\begin{tabular}{r|ll}\n",
       " lines & yield\\\\\n",
       " <fct> & <dbl>\\\\\n",
       "\\hline\n",
       "\t Bailey    & 5100\\\\\n",
       "\t Bailey II & 5600\\\\\n",
       "\t Sullivan  & 5200\\\\\n",
       "\t Emery     & 4900\\\\\n",
       "\\end{tabular}\n"
      ],
      "text/markdown": [
       "\n",
       "A data.frame: 4 × 2\n",
       "\n",
       "| lines &lt;fct&gt; | yield &lt;dbl&gt; |\n",
       "|---|---|\n",
       "| Bailey    | 5100 |\n",
       "| Bailey II | 5600 |\n",
       "| Sullivan  | 5200 |\n",
       "| Emery     | 4900 |\n",
       "\n"
      ],
      "text/plain": [
       "  lines     yield\n",
       "1 Bailey    5100 \n",
       "2 Bailey II 5600 \n",
       "3 Sullivan  5200 \n",
       "4 Emery     4900 "
      ]
     },
     "metadata": {},
     "output_type": "display_data"
    }
   ],
   "source": [
    "peanuts"
   ]
  },
  {
   "cell_type": "code",
   "execution_count": 32,
   "metadata": {},
   "outputs": [
    {
     "name": "stdout",
     "output_type": "stream",
     "text": [
      "[1] \"Emery has the lowest yield\"\n"
     ]
    }
   ],
   "source": [
    "test <- min(peanuts$yield)\n",
    "\n",
    "if (peanuts$yield[1] == min(peanut$yield)){\n",
    "    print(paste(peanuts$lines[1],'has the lowest yield'))\n",
    "}else{\n",
    "    print('Another peanut has a lower yield')\n",
    "}"
   ]
  },
  {
   "cell_type": "markdown",
   "metadata": {},
   "source": [
    "# <font color='red'>Using if, else, else if statements for conditions?</font>\n",
    "\n",
    "**If**, **else** and **else if** statements are limited in their ability to transform data. These statement generally return boolean values based on a condition met. We'll learn the power of loops to help manipulate data and return values to form new columns or change data values"
   ]
  },
  {
   "cell_type": "code",
   "execution_count": null,
   "metadata": {},
   "outputs": [],
   "source": [
    "test <- min(peanuts$yield)\n",
    "\n",
    "if (peanuts$yield[1] == test){\n",
    "    print(paste(peanuts$lines[1],'has the lowest yield'))\n",
    "}else{\n",
    "    print('Another peanut has a lower yield')\n",
    "}"
   ]
  },
  {
   "cell_type": "code",
   "execution_count": 33,
   "metadata": {},
   "outputs": [
    {
     "name": "stdout",
     "output_type": "stream",
     "text": [
      "[1] \"Emery has the lowest yield\"\n"
     ]
    }
   ],
   "source": [
    "test <- min(peanuts$yield)\n",
    "\n",
    "if (peanuts$yield[1] == test){\n",
    "    print(paste(peanuts$lines[1],'has the lowest yield'))\n",
    "}else if (peanuts$yield[2] == test){\n",
    "    print(paste(peanuts$lines[2],'has the lowest yield')) \n",
    "}else if (peanuts$yield[3] == test){\n",
    "    print(paste(peanuts$lines[3],'has the lowest yield'))\n",
    "}else{\n",
    "    print(paste(peanuts$lines[4],'has the lowest yield'))\n",
    "}"
   ]
  },
  {
   "cell_type": "code",
   "execution_count": 36,
   "metadata": {},
   "outputs": [
    {
     "name": "stdout",
     "output_type": "stream",
     "text": [
      "[1] \"Emery has the lowest yield\"\n"
     ]
    }
   ],
   "source": [
    "# Use a for loop\n",
    "\n",
    "for (i in 1:4){\n",
    "    if (peanuts$yield[i] == test){\n",
    "        print(paste(peanuts$lines[i],'has the lowest yield'))\n",
    "    }\n",
    "}"
   ]
  }
 ],
 "metadata": {
  "kernelspec": {
   "display_name": "R",
   "language": "R",
   "name": "ir"
  },
  "language_info": {
   "codemirror_mode": "r",
   "file_extension": ".r",
   "mimetype": "text/x-r-source",
   "name": "R",
   "pygments_lexer": "r",
   "version": "3.6.1"
  }
 },
 "nbformat": 4,
 "nbformat_minor": 2
}
