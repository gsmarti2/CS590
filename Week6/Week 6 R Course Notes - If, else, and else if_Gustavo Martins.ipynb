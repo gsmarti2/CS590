{
 "cells": [
  {
   "cell_type": "code",
   "execution_count": 1,
   "metadata": {},
   "outputs": [],
   "source": [
    "# Basic Syntax - IF\n",
    "\n",
    "# if (condition){\n",
    "    #Execute some code\n",
    "# }"
   ]
  },
  {
   "cell_type": "code",
   "execution_count": 2,
   "metadata": {},
   "outputs": [],
   "source": [
    "hot <- FALSE\n",
    "temp <- 60"
   ]
  },
  {
   "cell_type": "code",
   "execution_count": 3,
   "metadata": {},
   "outputs": [
    {
     "data": {
      "text/html": [
       "FALSE"
      ],
      "text/latex": [
       "FALSE"
      ],
      "text/markdown": [
       "FALSE"
      ],
      "text/plain": [
       "[1] FALSE"
      ]
     },
     "metadata": {},
     "output_type": "display_data"
    }
   ],
   "source": [
    "if (temp > 80){\n",
    "    hot = TRUE\n",
    "    }\n",
    "hot"
   ]
  },
  {
   "cell_type": "code",
   "execution_count": 4,
   "metadata": {},
   "outputs": [
    {
     "data": {
      "text/html": [
       "TRUE"
      ],
      "text/latex": [
       "TRUE"
      ],
      "text/markdown": [
       "TRUE"
      ],
      "text/plain": [
       "[1] TRUE"
      ]
     },
     "metadata": {},
     "output_type": "display_data"
    }
   ],
   "source": [
    "temp <- 100\n",
    "\n",
    "if (temp > 80){\n",
    "    hot <- TRUE\n",
    "    }\n",
    "hot"
   ]
  },
  {
   "cell_type": "code",
   "execution_count": 5,
   "metadata": {},
   "outputs": [
    {
     "name": "stdout",
     "output_type": "stream",
     "text": [
      "[1] \"Hello\"\n"
     ]
    }
   ],
   "source": [
    "if (1 == 1){\n",
    "    print('Hello')\n",
    "}"
   ]
  },
  {
   "cell_type": "code",
   "execution_count": null,
   "metadata": {},
   "outputs": [],
   "source": [
    "# Basic Syntax - ELSE\n",
    "\n",
    "# if (condition){\n",
    "    #Execute some code\n",
    "# }else{\n",
    "    #Additional code\n",
    "#}"
   ]
  },
  {
   "cell_type": "code",
   "execution_count": 6,
   "metadata": {},
   "outputs": [
    {
     "name": "stdout",
     "output_type": "stream",
     "text": [
      "[1] \"Not a bad day for combining!\"\n"
     ]
    }
   ],
   "source": [
    "temp <- 75\n",
    "\n",
    "if (temp > 95){\n",
    "    print('Too hot to pick peanuts')\n",
    "}else{print('Not a bad day for combining!')\n",
    "     }"
   ]
  },
  {
   "cell_type": "code",
   "execution_count": null,
   "metadata": {},
   "outputs": [],
   "source": [
    "# Basic Syntax - ELSE IF\n",
    "\n",
    "# if (condition){\n",
    "    #Execute some code\n",
    "# } esle if (condition){\n",
    "    #Execute more code\n",
    "# } else{\n",
    "    #Additional code\n",
    "# }"
   ]
  },
  {
   "cell_type": "code",
   "execution_count": 8,
   "metadata": {},
   "outputs": [
    {
     "name": "stdout",
     "output_type": "stream",
     "text": [
      "[1] \"Are we in Michigan\"\n"
     ]
    }
   ],
   "source": [
    "temp <- 45\n",
    "\n",
    "if (temp > 80){\n",
    "    print('Too hot to pick peanuts')\n",
    "} else if (temp <80 & temp >50){\n",
    "    print('Perfect combining weather')\n",
    "} else if (temp < 50 & temp > 32){\n",
    "    print('Are we in Michigan')\n",
    "}else{print('Global Warming is fake')\n",
    "     }"
   ]
  },
  {
   "cell_type": "code",
   "execution_count": 9,
   "metadata": {},
   "outputs": [
    {
     "data": {
      "text/html": [
       "'Release N14023'"
      ],
      "text/latex": [
       "'Release N14023'"
      ],
      "text/markdown": [
       "'Release N14023'"
      ],
      "text/plain": [
       "[1] \"Release N14023\""
      ]
     },
     "metadata": {},
     "output_type": "display_data"
    }
   ],
   "source": [
    "# Multiple Conditions using if, else if, else\n",
    "\n",
    "line <- \"N14023\"\n",
    "yield <- 5800\n",
    "leaf_spot <- 2.5\n",
    "\n",
    "report <- 'Blank'\n",
    "\n",
    "if (yield >= 550 & leaf_spot <= 3){\n",
    "    report <- paste('Release',line)\n",
    "} else if (yield >=5500 & leaf_spot > 3){\n",
    "    report<-paste(line,\"is a good agronomic parent\")\n",
    "} else if (yield <=5500 & leaf_spot <= 3){\n",
    "    report<-paste(line,\"is a good disease resistant parent\")\n",
    "} else{\n",
    "    report<- paste ('Drop',line)\n",
    "}\n",
    "report"
   ]
  },
  {
   "cell_type": "code",
   "execution_count": 11,
   "metadata": {},
   "outputs": [
    {
     "data": {
      "text/html": [
       "<table>\n",
       "<thead><tr><th scope=col>lines</th><th scope=col>yield</th></tr></thead>\n",
       "<tbody>\n",
       "\t<tr><td>Bailey   </td><td>5100     </td></tr>\n",
       "\t<tr><td>Bailey II</td><td>5600     </td></tr>\n",
       "\t<tr><td>Sullivan </td><td>5200     </td></tr>\n",
       "\t<tr><td>Emery    </td><td>4900     </td></tr>\n",
       "</tbody>\n",
       "</table>\n"
      ],
      "text/latex": [
       "\\begin{tabular}{r|ll}\n",
       " lines & yield\\\\\n",
       "\\hline\n",
       "\t Bailey    & 5100     \\\\\n",
       "\t Bailey II & 5600     \\\\\n",
       "\t Sullivan  & 5200     \\\\\n",
       "\t Emery     & 4900     \\\\\n",
       "\\end{tabular}\n"
      ],
      "text/markdown": [
       "\n",
       "| lines | yield |\n",
       "|---|---|\n",
       "| Bailey    | 5100      |\n",
       "| Bailey II | 5600      |\n",
       "| Sullivan  | 5200      |\n",
       "| Emery     | 4900      |\n",
       "\n"
      ],
      "text/plain": [
       "  lines     yield\n",
       "1 Bailey    5100 \n",
       "2 Bailey II 5600 \n",
       "3 Sullivan  5200 \n",
       "4 Emery     4900 "
      ]
     },
     "metadata": {},
     "output_type": "display_data"
    }
   ],
   "source": [
    "# Working with DATAFRAMES\n",
    "\n",
    "lines <- c('Bailey',\"Bailey II\",\"Sullivan\",\"Emery\")\n",
    "yield <- c(5100,5600,5200,4900)\n",
    "peanuts <- data.frame(lines,yield)\n",
    "peanuts"
   ]
  },
  {
   "cell_type": "code",
   "execution_count": 20,
   "metadata": {},
   "outputs": [
    {
     "name": "stdout",
     "output_type": "stream",
     "text": [
      "[1] \"Another peanut line has the lowest yield\"\n"
     ]
    }
   ],
   "source": [
    "test <- min(peanuts$yield)\n",
    "\n",
    "if (peanuts$yield[1]== test){\n",
    "    print(paste(peanut$lines[1],'has the lowest yield'))\n",
    "} else{\n",
    "    print('Another peanut line has the lowest yield')\n",
    "}"
   ]
  },
  {
   "cell_type": "code",
   "execution_count": 21,
   "metadata": {},
   "outputs": [
    {
     "name": "stdout",
     "output_type": "stream",
     "text": [
      "[1] \"Emery has the lowest yield\"\n"
     ]
    }
   ],
   "source": [
    "### Testing along all LINES which has the lowest yield\n",
    "\n",
    "test <- min(peanuts$yield)\n",
    "\n",
    "if (peanuts$yield[1]== test){\n",
    "    print(paste(peanuts$lines[1],'has the lowest yield'))\n",
    "} else if (peanuts$yield[2]== test){\n",
    "    print(paste(peanuts$lines[2],'has the lowest yield'))\n",
    "} else if (peanuts$yield[3]== test){\n",
    "    print(paste(peanuts$lines[3],'has the lowest yield'))\n",
    "} else {\n",
    "    print(paste(peanuts$lines[4],'has the lowest yield'))\n",
    "}"
   ]
  },
  {
   "cell_type": "code",
   "execution_count": 23,
   "metadata": {},
   "outputs": [
    {
     "name": "stdout",
     "output_type": "stream",
     "text": [
      "[1] \"Emery has the lowest yield\"\n"
     ]
    }
   ],
   "source": [
    "# FOR function can iterate along the range\n",
    "for (i in 1:nrow(peanuts)){\n",
    "    if (peanuts$yield[i]== test){\n",
    "    print(paste(peanuts$lines[i],'has the lowest yield'))\n",
    "    }\n",
    "}"
   ]
  },
  {
   "cell_type": "code",
   "execution_count": null,
   "metadata": {},
   "outputs": [],
   "source": [
    "# For Loops\n",
    "\n",
    "# for (temprary_variable in object){\n",
    "    #Execute some code\n",
    "#}"
   ]
  },
  {
   "cell_type": "code",
   "execution_count": 27,
   "metadata": {},
   "outputs": [
    {
     "name": "stdout",
     "output_type": "stream",
     "text": [
      "[1] 1\n",
      "[1] 2\n",
      "[1] 3\n",
      "[1] 4\n",
      "[1] 5\n"
     ]
    }
   ],
   "source": [
    "vec <- c(1,2,3,4,5)\n",
    "\n",
    "for (i in vec){\n",
    "    print(i)\n",
    "}"
   ]
  },
  {
   "cell_type": "code",
   "execution_count": 29,
   "metadata": {},
   "outputs": [
    {
     "name": "stdout",
     "output_type": "stream",
     "text": [
      "[1] 1\n",
      "[1] 2\n",
      "[1] 3\n"
     ]
    }
   ],
   "source": [
    "for (i in 1:3){\n",
    "    print(i)\n",
    "}"
   ]
  },
  {
   "cell_type": "code",
   "execution_count": 31,
   "metadata": {},
   "outputs": [
    {
     "data": {
      "text/html": [
       "<table>\n",
       "<thead><tr><th scope=col>height</th><th scope=col>weight</th></tr></thead>\n",
       "<tbody>\n",
       "\t<tr><td>58 </td><td>115</td></tr>\n",
       "\t<tr><td>59 </td><td>117</td></tr>\n",
       "\t<tr><td>60 </td><td>120</td></tr>\n",
       "\t<tr><td>61 </td><td>123</td></tr>\n",
       "\t<tr><td>62 </td><td>126</td></tr>\n",
       "\t<tr><td>63 </td><td>129</td></tr>\n",
       "\t<tr><td>64 </td><td>132</td></tr>\n",
       "\t<tr><td>65 </td><td>135</td></tr>\n",
       "\t<tr><td>66 </td><td>139</td></tr>\n",
       "\t<tr><td>67 </td><td>142</td></tr>\n",
       "\t<tr><td>68 </td><td>146</td></tr>\n",
       "\t<tr><td>69 </td><td>150</td></tr>\n",
       "\t<tr><td>70 </td><td>154</td></tr>\n",
       "\t<tr><td>71 </td><td>159</td></tr>\n",
       "\t<tr><td>72 </td><td>164</td></tr>\n",
       "</tbody>\n",
       "</table>\n"
      ],
      "text/latex": [
       "\\begin{tabular}{r|ll}\n",
       " height & weight\\\\\n",
       "\\hline\n",
       "\t 58  & 115\\\\\n",
       "\t 59  & 117\\\\\n",
       "\t 60  & 120\\\\\n",
       "\t 61  & 123\\\\\n",
       "\t 62  & 126\\\\\n",
       "\t 63  & 129\\\\\n",
       "\t 64  & 132\\\\\n",
       "\t 65  & 135\\\\\n",
       "\t 66  & 139\\\\\n",
       "\t 67  & 142\\\\\n",
       "\t 68  & 146\\\\\n",
       "\t 69  & 150\\\\\n",
       "\t 70  & 154\\\\\n",
       "\t 71  & 159\\\\\n",
       "\t 72  & 164\\\\\n",
       "\\end{tabular}\n"
      ],
      "text/markdown": [
       "\n",
       "| height | weight |\n",
       "|---|---|\n",
       "| 58  | 115 |\n",
       "| 59  | 117 |\n",
       "| 60  | 120 |\n",
       "| 61  | 123 |\n",
       "| 62  | 126 |\n",
       "| 63  | 129 |\n",
       "| 64  | 132 |\n",
       "| 65  | 135 |\n",
       "| 66  | 139 |\n",
       "| 67  | 142 |\n",
       "| 68  | 146 |\n",
       "| 69  | 150 |\n",
       "| 70  | 154 |\n",
       "| 71  | 159 |\n",
       "| 72  | 164 |\n",
       "\n"
      ],
      "text/plain": [
       "   height weight\n",
       "1  58     115   \n",
       "2  59     117   \n",
       "3  60     120   \n",
       "4  61     123   \n",
       "5  62     126   \n",
       "6  63     129   \n",
       "7  64     132   \n",
       "8  65     135   \n",
       "9  66     139   \n",
       "10 67     142   \n",
       "11 68     146   \n",
       "12 69     150   \n",
       "13 70     154   \n",
       "14 71     159   \n",
       "15 72     164   "
      ]
     },
     "metadata": {},
     "output_type": "display_data"
    }
   ],
   "source": [
    "df<-women\n",
    "df"
   ]
  },
  {
   "cell_type": "code",
   "execution_count": 33,
   "metadata": {},
   "outputs": [
    {
     "name": "stdout",
     "output_type": "stream",
     "text": [
      "[1] \"individual 1 height =  58 and Weight =  115\"\n",
      "[1] \"individual 2 height =  59 and Weight =  117\"\n"
     ]
    }
   ],
   "source": [
    "for ( i in 1:length(df)){\n",
    "    print(paste(sprintf(\"individual %s\", i),\"height = \",df$height[i],\"and Weight = \",df$weight[i]))\n",
    "}"
   ]
  },
  {
   "cell_type": "code",
   "execution_count": 35,
   "metadata": {},
   "outputs": [
    {
     "name": "stdout",
     "output_type": "stream",
     "text": [
      "[1] \"individual 1 height =  58 and Weight =  115\"\n",
      "[1] \"individual 2 height =  59 and Weight =  117\"\n",
      "[1] \"individual 3 height =  60 and Weight =  120\"\n",
      "[1] \"individual 4 height =  61 and Weight =  123\"\n",
      "[1] \"individual 5 height =  62 and Weight =  126\"\n",
      "[1] \"individual 6 height =  63 and Weight =  129\"\n",
      "[1] \"individual 7 height =  64 and Weight =  132\"\n",
      "[1] \"individual 8 height =  65 and Weight =  135\"\n",
      "[1] \"individual 9 height =  66 and Weight =  139\"\n",
      "[1] \"individual 10 height =  67 and Weight =  142\"\n",
      "[1] \"individual 11 height =  68 and Weight =  146\"\n",
      "[1] \"individual 12 height =  69 and Weight =  150\"\n",
      "[1] \"individual 13 height =  70 and Weight =  154\"\n",
      "[1] \"individual 14 height =  71 and Weight =  159\"\n",
      "[1] \"individual 15 height =  72 and Weight =  164\"\n"
     ]
    }
   ],
   "source": [
    "for ( i in 1:nrow(df)){\n",
    "    print(paste(sprintf(\"individual %s\", i),\"height = \",df$height[i],\"and Weight = \",df$weight[i]))\n",
    "}"
   ]
  },
  {
   "cell_type": "code",
   "execution_count": 38,
   "metadata": {},
   "outputs": [
    {
     "data": {
      "text/html": [
       "<table>\n",
       "<tbody>\n",
       "\t<tr><td>1 </td><td> 6</td><td>11</td><td>16</td><td>21</td></tr>\n",
       "\t<tr><td>2 </td><td> 7</td><td>12</td><td>17</td><td>22</td></tr>\n",
       "\t<tr><td>3 </td><td> 8</td><td>13</td><td>18</td><td>23</td></tr>\n",
       "\t<tr><td>4 </td><td> 9</td><td>14</td><td>19</td><td>24</td></tr>\n",
       "\t<tr><td>5 </td><td>10</td><td>15</td><td>20</td><td>25</td></tr>\n",
       "</tbody>\n",
       "</table>\n"
      ],
      "text/latex": [
       "\\begin{tabular}{lllll}\n",
       "\t 1  &  6 & 11 & 16 & 21\\\\\n",
       "\t 2  &  7 & 12 & 17 & 22\\\\\n",
       "\t 3  &  8 & 13 & 18 & 23\\\\\n",
       "\t 4  &  9 & 14 & 19 & 24\\\\\n",
       "\t 5  & 10 & 15 & 20 & 25\\\\\n",
       "\\end{tabular}\n"
      ],
      "text/markdown": [
       "\n",
       "| 1  |  6 | 11 | 16 | 21 |\n",
       "| 2  |  7 | 12 | 17 | 22 |\n",
       "| 3  |  8 | 13 | 18 | 23 |\n",
       "| 4  |  9 | 14 | 19 | 24 |\n",
       "| 5  | 10 | 15 | 20 | 25 |\n",
       "\n"
      ],
      "text/plain": [
       "     [,1] [,2] [,3] [,4] [,5]\n",
       "[1,] 1     6   11   16   21  \n",
       "[2,] 2     7   12   17   22  \n",
       "[3,] 3     8   13   18   23  \n",
       "[4,] 4     9   14   19   24  \n",
       "[5,] 5    10   15   20   25  "
      ]
     },
     "metadata": {},
     "output_type": "display_data"
    }
   ],
   "source": [
    "#NESTED FOR LOOPS\n",
    "\n",
    "mat = matrix(1:25,nrow=5,byrow=F)\n",
    "mat"
   ]
  },
  {
   "cell_type": "code",
   "execution_count": 40,
   "metadata": {},
   "outputs": [
    {
     "name": "stdout",
     "output_type": "stream",
     "text": [
      "[1] \"The element at row: 1 and col: 1 is 1\"\n",
      "[1] \"The element at row: 1 and col: 2 is 6\"\n",
      "[1] \"The element at row: 1 and col: 3 is 11\"\n",
      "[1] \"The element at row: 1 and col: 4 is 16\"\n",
      "[1] \"The element at row: 1 and col: 5 is 21\"\n",
      "[1] \"The element at row: 2 and col: 1 is 2\"\n",
      "[1] \"The element at row: 2 and col: 2 is 7\"\n",
      "[1] \"The element at row: 2 and col: 3 is 12\"\n",
      "[1] \"The element at row: 2 and col: 4 is 17\"\n",
      "[1] \"The element at row: 2 and col: 5 is 22\"\n",
      "[1] \"The element at row: 3 and col: 1 is 3\"\n",
      "[1] \"The element at row: 3 and col: 2 is 8\"\n",
      "[1] \"The element at row: 3 and col: 3 is 13\"\n",
      "[1] \"The element at row: 3 and col: 4 is 18\"\n",
      "[1] \"The element at row: 3 and col: 5 is 23\"\n",
      "[1] \"The element at row: 4 and col: 1 is 4\"\n",
      "[1] \"The element at row: 4 and col: 2 is 9\"\n",
      "[1] \"The element at row: 4 and col: 3 is 14\"\n",
      "[1] \"The element at row: 4 and col: 4 is 19\"\n",
      "[1] \"The element at row: 4 and col: 5 is 24\"\n",
      "[1] \"The element at row: 5 and col: 1 is 5\"\n",
      "[1] \"The element at row: 5 and col: 2 is 10\"\n",
      "[1] \"The element at row: 5 and col: 3 is 15\"\n",
      "[1] \"The element at row: 5 and col: 4 is 20\"\n",
      "[1] \"The element at row: 5 and col: 5 is 25\"\n"
     ]
    }
   ],
   "source": [
    "for (row in 1:nrow(mat)){\n",
    "    for (col in 1:ncol(mat)){\n",
    "        print(paste(\"The element at row:\",row,\"and col:\",col,'is',mat[row,col]))\n",
    "    }\n",
    "}\n",
    "\n",
    "# NOTE THAT THE HIGHER ORDER LOOP STAYS TILL THE LOWER ORDER LOOP ITERATES COMPLETELY\n",
    "# IN THIS CASE THE ROW NUMBER 1 REMAINS TILL ALL COLUMNS ITERATE ALONG ROW 1."
   ]
  },
  {
   "cell_type": "code",
   "execution_count": 41,
   "metadata": {},
   "outputs": [],
   "source": [
    "li <- list(vec,mat,df)"
   ]
  },
  {
   "cell_type": "code",
   "execution_count": 49,
   "metadata": {},
   "outputs": [
    {
     "name": "stdout",
     "output_type": "stream",
     "text": [
      "[1] 1 2 3 4 5\n",
      "     [,1] [,2] [,3] [,4] [,5]\n",
      "[1,]    1    6   11   16   21\n",
      "[2,]    2    7   12   17   22\n",
      "[3,]    3    8   13   18   23\n",
      "[4,]    4    9   14   19   24\n",
      "[5,]    5   10   15   20   25\n",
      "   height weight\n",
      "1      58    115\n",
      "2      59    117\n",
      "3      60    120\n",
      "4      61    123\n",
      "5      62    126\n",
      "6      63    129\n",
      "7      64    132\n",
      "8      65    135\n",
      "9      66    139\n",
      "10     67    142\n",
      "11     68    146\n",
      "12     69    150\n",
      "13     70    154\n",
      "14     71    159\n",
      "15     72    164\n"
     ]
    }
   ],
   "source": [
    "for (i in li){\n",
    "    print(i)\n",
    "}"
   ]
  },
  {
   "cell_type": "code",
   "execution_count": 74,
   "metadata": {},
   "outputs": [
    {
     "data": {
      "text/html": [
       "<table>\n",
       "<tbody>\n",
       "\t<tr><td>1</td><td>6</td></tr>\n",
       "\t<tr><td>2</td><td>7</td></tr>\n",
       "</tbody>\n",
       "</table>\n"
      ],
      "text/latex": [
       "\\begin{tabular}{ll}\n",
       "\t 1 & 6\\\\\n",
       "\t 2 & 7\\\\\n",
       "\\end{tabular}\n"
      ],
      "text/markdown": [
       "\n",
       "| 1 | 6 |\n",
       "| 2 | 7 |\n",
       "\n"
      ],
      "text/plain": [
       "     [,1] [,2]\n",
       "[1,] 1    6   \n",
       "[2,] 2    7   "
      ]
     },
     "metadata": {},
     "output_type": "display_data"
    }
   ],
   "source": [
    "li[[2]][1:2,1:2]"
   ]
  },
  {
   "cell_type": "code",
   "execution_count": null,
   "metadata": {},
   "outputs": [],
   "source": []
  }
 ],
 "metadata": {
  "kernelspec": {
   "display_name": "R",
   "language": "R",
   "name": "ir"
  },
  "language_info": {
   "codemirror_mode": "r",
   "file_extension": ".r",
   "mimetype": "text/x-r-source",
   "name": "R",
   "pygments_lexer": "r",
   "version": "3.6.1"
  }
 },
 "nbformat": 4,
 "nbformat_minor": 2
}
