{
 "cells": [
  {
   "cell_type": "markdown",
   "metadata": {},
   "source": [
    "![](logo.png)"
   ]
  },
  {
   "cell_type": "markdown",
   "metadata": {},
   "source": [
    "# <font color='red'>Introduction to Functions</font>\n",
    "\n",
    "This lecture will consist of explaining what a function is in R and how to create one. Functions will be one of our main building blocks when we construct larger and larger amounts of code to solve problems.\n",
    "\n",
    "So what is a function?\n",
    "\n",
    "Formally, a function is a useful device that groups together a set of statements so they can be run more than once. They can also let us specify parameters that can serve as inputs to the functions.\n",
    "\n",
    "On a more fundamental level, functions allow us to not have to repeatedly write the same code again and again. If you remember back to the lessons on strings and lists, remember that we used a built-in R function **length()** to get the length of a string. Since checking the length of a sequence is a common task you would want to write a function that can do this repeatedly at command. Functions will be one of most basic levels of reusing code in R, and it will also allow us to start thinking about program design.\n",
    "\n",
    "We already have seen built-in functions and we can use the built-in R function **help()** to discover the arguments that the functions take in."
   ]
  },
  {
   "cell_type": "code",
   "execution_count": 2,
   "metadata": {},
   "outputs": [],
   "source": [
    "# Using help documentation\n",
    "help(sum)"
   ]
  },
  {
   "cell_type": "markdown",
   "metadata": {},
   "source": [
    "## Basic Syntax\n",
    "\n",
    "Functions take a basic syntax similar to loops.\n",
    "\n",
    "Name_of_function <- **function**(arguements){\n",
    "\n",
    "    # Code for function to process\n",
    "}"
   ]
  },
  {
   "cell_type": "code",
   "execution_count": 3,
   "metadata": {},
   "outputs": [],
   "source": [
    "# Example 1 - Simple function with no inputs/arguements\n",
    "\n",
    "hello_world <- function(){\n",
    "    print('Hello World!')\n",
    "}"
   ]
  },
  {
   "cell_type": "markdown",
   "metadata": {},
   "source": [
    "NOTE: There is no ouput for defining the function. The function needs to be called in order to produce output"
   ]
  },
  {
   "cell_type": "code",
   "execution_count": 6,
   "metadata": {},
   "outputs": [
    {
     "name": "stdout",
     "output_type": "stream",
     "text": [
      "[1] \"Hello World!\"\n"
     ]
    }
   ],
   "source": [
    "hello_world()"
   ]
  },
  {
   "cell_type": "code",
   "execution_count": 7,
   "metadata": {},
   "outputs": [],
   "source": [
    "# Example 2 - Adding inputs/arguements\n",
    "\n",
    "hello_person <- function(name){\n",
    "    print(paste('Hello', name))\n",
    "}"
   ]
  },
  {
   "cell_type": "code",
   "execution_count": 8,
   "metadata": {},
   "outputs": [
    {
     "name": "stdout",
     "output_type": "stream",
     "text": [
      "[1] \"Hello Tim\"\n"
     ]
    }
   ],
   "source": [
    "hello_person('Tim')"
   ]
  },
  {
   "cell_type": "code",
   "execution_count": 9,
   "metadata": {},
   "outputs": [],
   "source": [
    "# Example 3 - Sum Function\n",
    "\n",
    "add_num <- function(num1,num2){\n",
    "    print(num1+num2)\n",
    "}"
   ]
  },
  {
   "cell_type": "code",
   "execution_count": 10,
   "metadata": {},
   "outputs": [
    {
     "name": "stdout",
     "output_type": "stream",
     "text": [
      "[1] 15\n"
     ]
    }
   ],
   "source": [
    "add_num(5,10)"
   ]
  },
  {
   "cell_type": "markdown",
   "metadata": {},
   "source": [
    "## Default Values\n",
    "\n",
    "So far, we've had to define every arguement in the fuction when using it, but we can also have default values by assigning a variable within the arguments"
   ]
  },
  {
   "cell_type": "code",
   "execution_count": 11,
   "metadata": {},
   "outputs": [],
   "source": [
    "hello_someone <- function(name='Ryan'){\n",
    "    print(paste('Hello', name))\n",
    "}"
   ]
  },
  {
   "cell_type": "code",
   "execution_count": 12,
   "metadata": {},
   "outputs": [
    {
     "name": "stdout",
     "output_type": "stream",
     "text": [
      "[1] \"Hello Ryan\"\n"
     ]
    }
   ],
   "source": [
    "# Use Default\n",
    "\n",
    "hello_someone()"
   ]
  },
  {
   "cell_type": "code",
   "execution_count": 13,
   "metadata": {},
   "outputs": [
    {
     "name": "stdout",
     "output_type": "stream",
     "text": [
      "[1] \"Hello Andrew\"\n"
     ]
    }
   ],
   "source": [
    "# Change from Default\n",
    "\n",
    "hello_someone('Andrew')"
   ]
  },
  {
   "cell_type": "markdown",
   "metadata": {},
   "source": [
    "NOTE: You'll see tons of built-in R functions that use default values for a variety of operations, where the users will usually need a specific value"
   ]
  },
  {
   "cell_type": "markdown",
   "metadata": {},
   "source": [
    "## Returning Values\n",
    "\n",
    "So far, we've only been printing out results, but what if we wanted to return the results so that we could assign them to a variable. Use the built-in R function **return()** to be able to assign variables for use in other R operations"
   ]
  },
  {
   "cell_type": "code",
   "execution_count": 18,
   "metadata": {},
   "outputs": [],
   "source": [
    "formal <- function(name='Sean Connery', title='Sir'){\n",
    "    return(paste(title,name))\n",
    "}"
   ]
  },
  {
   "cell_type": "code",
   "execution_count": 19,
   "metadata": {},
   "outputs": [
    {
     "data": {
      "text/html": [
       "'Sir Sean Connery'"
      ],
      "text/latex": [
       "'Sir Sean Connery'"
      ],
      "text/markdown": [
       "'Sir Sean Connery'"
      ],
      "text/plain": [
       "[1] \"Sir Sean Connery\""
      ]
     },
     "metadata": {},
     "output_type": "display_data"
    }
   ],
   "source": [
    "formal()"
   ]
  },
  {
   "cell_type": "code",
   "execution_count": 20,
   "metadata": {},
   "outputs": [
    {
     "data": {
      "text/html": [
       "'Sir Issac Newton'"
      ],
      "text/latex": [
       "'Sir Issac Newton'"
      ],
      "text/markdown": [
       "'Sir Issac Newton'"
      ],
      "text/plain": [
       "[1] \"Sir Issac Newton\""
      ]
     },
     "metadata": {},
     "output_type": "display_data"
    }
   ],
   "source": [
    "formal('Issac Newton')"
   ]
  },
  {
   "cell_type": "markdown",
   "metadata": {},
   "source": [
    "NOTE: We're not printing the formal name, we're returning a value. This means we can assign it to a variable"
   ]
  },
  {
   "cell_type": "code",
   "execution_count": 21,
   "metadata": {},
   "outputs": [],
   "source": [
    "var <- formal('Seuss','Dr.')"
   ]
  },
  {
   "cell_type": "code",
   "execution_count": 22,
   "metadata": {},
   "outputs": [
    {
     "data": {
      "text/html": [
       "'Dr. Seuss'"
      ],
      "text/latex": [
       "'Dr. Seuss'"
      ],
      "text/markdown": [
       "'Dr. Seuss'"
      ],
      "text/plain": [
       "[1] \"Dr. Seuss\""
      ]
     },
     "metadata": {},
     "output_type": "display_data"
    }
   ],
   "source": [
    "var"
   ]
  },
  {
   "cell_type": "markdown",
   "metadata": {},
   "source": [
    "NOTE: This is the sort of syntax you want to use to have the function return a result when arguments are passed to them."
   ]
  },
  {
   "cell_type": "markdown",
   "metadata": {},
   "source": [
    "## Scope\n",
    "\n",
    "Scope is the term we use to describe how objects and variable get defined within R. When discussing scope with functions, as a general rule we can say that if a variable is defined only inside a function than its scope is limited to that function. For example, consider the following function:"
   ]
  },
  {
   "cell_type": "code",
   "execution_count": 25,
   "metadata": {},
   "outputs": [],
   "source": [
    "# Multiplies input by 5\n",
    "times5 <- function(input) {\n",
    "  result <- input * 5\n",
    "  return(result)\n",
    "}"
   ]
  },
  {
   "cell_type": "code",
   "execution_count": 26,
   "metadata": {},
   "outputs": [
    {
     "ename": "ERROR",
     "evalue": "Error in eval(expr, envir, enclos): object 'result' not found\n",
     "output_type": "error",
     "traceback": [
      "Error in eval(expr, envir, enclos): object 'result' not found\nTraceback:\n"
     ]
    }
   ],
   "source": [
    "result # not defined outside of the function"
   ]
  },
  {
   "cell_type": "code",
   "execution_count": 27,
   "metadata": {},
   "outputs": [
    {
     "ename": "ERROR",
     "evalue": "Error in eval(expr, envir, enclos): object 'input' not found\n",
     "output_type": "error",
     "traceback": [
      "Error in eval(expr, envir, enclos): object 'input' not found\nTraceback:\n"
     ]
    }
   ],
   "source": [
    "input # not defined outside of the function"
   ]
  },
  {
   "cell_type": "markdown",
   "metadata": {},
   "source": [
    "These error indicate that these variables are only defined inside the scope of the function. So variables defined inside of a function are only defined (or redefined) inside of that function. However, variables assigned outside of the function are global variables, and the function will have access to them due to their scope. For example:"
   ]
  },
  {
   "cell_type": "code",
   "execution_count": 1,
   "metadata": {},
   "outputs": [],
   "source": [
    "globe1 <- 'Global Variable 1'\n",
    "globe2 <- 'Global Variable 2'\n",
    "\n",
    "func <- function(globe2){\n",
    "    print(globe1)\n",
    "    globe2 <- 'Local Variable 1'\n",
    "    print(globe2)\n",
    "}"
   ]
  },
  {
   "cell_type": "code",
   "execution_count": 2,
   "metadata": {},
   "outputs": [
    {
     "name": "stdout",
     "output_type": "stream",
     "text": [
      "[1] \"Global Variable 1\"\n"
     ]
    }
   ],
   "source": [
    "print(globe1)"
   ]
  },
  {
   "cell_type": "code",
   "execution_count": 3,
   "metadata": {},
   "outputs": [
    {
     "name": "stdout",
     "output_type": "stream",
     "text": [
      "[1] \"Global Variable 2\"\n"
     ]
    }
   ],
   "source": [
    "print(globe2)"
   ]
  },
  {
   "cell_type": "code",
   "execution_count": 4,
   "metadata": {},
   "outputs": [
    {
     "name": "stdout",
     "output_type": "stream",
     "text": [
      "[1] \"Global Variable 1\"\n",
      "[1] \"Local Variable 1\"\n"
     ]
    }
   ],
   "source": [
    "func(globe2)"
   ]
  },
  {
   "cell_type": "code",
   "execution_count": 5,
   "metadata": {},
   "outputs": [
    {
     "name": "stdout",
     "output_type": "stream",
     "text": [
      "[1] \"Global Variable 2\"\n"
     ]
    }
   ],
   "source": [
    "print(globe2)"
   ]
  },
  {
   "cell_type": "markdown",
   "metadata": {},
   "source": [
    "So what is happening above? The following happens\n",
    "\n",
    "print(globe1) will check for the global variable 'globe1', the outer scope\n",
    "\n",
    "print(globe2) will also check for the global variable 'globe2'\n",
    "\n",
    "func(globe2) will accept an argument globe2, print out globe1, and then reassign globe2 (in the scope of the function) and print out globe2. Notice two things:\n",
    "\n",
    "1. The reassignment of globe2 only effects the scope of the globe2 variable inside the function\n",
    "    \n",
    "2. The func function first checks to see if globe1 is defined at the function scope, if not (which was the case) it will then search the global scope for a variable names globe1, leading to it printing out \"Global Variable 1\".\n",
    "\n",
    "    Check out the function below and make sure you understand it:"
   ]
  },
  {
   "cell_type": "code",
   "execution_count": 6,
   "metadata": {},
   "outputs": [
    {
     "data": {
      "text/html": [
       "10"
      ],
      "text/latex": [
       "10"
      ],
      "text/markdown": [
       "10"
      ],
      "text/plain": [
       "[1] 10"
      ]
     },
     "metadata": {},
     "output_type": "display_data"
    },
    {
     "data": {
      "text/html": [
       "5"
      ],
      "text/latex": [
       "5"
      ],
      "text/markdown": [
       "5"
      ],
      "text/plain": [
       "[1] 5"
      ]
     },
     "metadata": {},
     "output_type": "display_data"
    }
   ],
   "source": [
    "double <- function(a) {\n",
    "  a <- 2*a\n",
    "  a\n",
    "}\n",
    "\n",
    "var <- 5\n",
    "\n",
    "double(var)\n",
    "\n",
    "var"
   ]
  }
 ],
 "metadata": {
  "kernelspec": {
   "display_name": "R",
   "language": "R",
   "name": "ir"
  },
  "language_info": {
   "codemirror_mode": "r",
   "file_extension": ".r",
   "mimetype": "text/x-r-source",
   "name": "R",
   "pygments_lexer": "r",
   "version": "3.6.1"
  }
 },
 "nbformat": 4,
 "nbformat_minor": 2
}
