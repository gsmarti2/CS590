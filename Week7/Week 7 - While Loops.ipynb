{
 "cells": [
  {
   "cell_type": "markdown",
   "metadata": {},
   "source": [
    "![](logo.png)"
   ]
  },
  {
   "cell_type": "markdown",
   "metadata": {},
   "source": [
    "# <font color='red'>while loops</font>\n",
    "\n",
    "while loops are made to have your program continuously run some block of code until a condition is met (made TRUE). The syntax is:\n",
    "\n",
    "while (condition){\n",
    "    # Code executed here \n",
    "    # while condition is true\n",
    "}\n",
    "\n",
    "A major concern when working with a while loop is to make sure that at some point the condition should become true, otherwise the while loop will go forever. This is referred to as an endless (infinite) loop. Remember you can interupt the kernel by pressing the \"Stop\" button to kill a process in Jupyter Notebooks."
   ]
  },
  {
   "cell_type": "markdown",
   "metadata": {},
   "source": [
    "### Printing Variables with Strings"
   ]
  },
  {
   "cell_type": "code",
   "execution_count": 1,
   "metadata": {},
   "outputs": [
    {
     "name": "stdout",
     "output_type": "stream",
     "text": [
      "[1] \"Just a string\"\n"
     ]
    }
   ],
   "source": [
    "print('Just a string')"
   ]
  },
  {
   "cell_type": "code",
   "execution_count": 2,
   "metadata": {},
   "outputs": [
    {
     "name": "stdout",
     "output_type": "stream",
     "text": [
      "My variable is: A variable"
     ]
    }
   ],
   "source": [
    "var <- 'A variable'\n",
    "cat('My variable is:', var)"
   ]
  },
  {
   "cell_type": "code",
   "execution_count": 3,
   "metadata": {},
   "outputs": [
    {
     "name": "stdout",
     "output_type": "stream",
     "text": [
      "My variable is: 25"
     ]
    }
   ],
   "source": [
    "var <- 25\n",
    "cat('My variable is:', var)"
   ]
  },
  {
   "cell_type": "code",
   "execution_count": 4,
   "metadata": {},
   "outputs": [
    {
     "name": "stdout",
     "output_type": "stream",
     "text": [
      "[1] \"My variable is: 25\"\n"
     ]
    }
   ],
   "source": [
    "print(paste('My variable is:', var))"
   ]
  },
  {
   "cell_type": "markdown",
   "metadata": {},
   "source": [
    "This next section uses the built-in R function **cat()** in the example to show the structure and function of while loops"
   ]
  },
  {
   "cell_type": "code",
   "execution_count": 5,
   "metadata": {},
   "outputs": [
    {
     "name": "stdout",
     "output_type": "stream",
     "text": [
      "X is currently: 0[1] \"X is still less than 10, addint 1 to X\"\n",
      "X is currently: 1[1] \"X is still less than 10, addint 1 to X\"\n",
      "X is currently: 2[1] \"X is still less than 10, addint 1 to X\"\n",
      "X is currently: 3[1] \"X is still less than 10, addint 1 to X\"\n",
      "X is currently: 4[1] \"X is still less than 10, addint 1 to X\"\n",
      "X is currently: 5[1] \"X is still less than 10, addint 1 to X\"\n",
      "X is currently: 6[1] \"X is still less than 10, addint 1 to X\"\n",
      "X is currently: 7[1] \"X is still less than 10, addint 1 to X\"\n",
      "X is currently: 8[1] \"X is still less than 10, addint 1 to X\"\n",
      "X is currently: 9[1] \"X is still less than 10, addint 1 to X\"\n"
     ]
    }
   ],
   "source": [
    "x <- 0\n",
    "\n",
    "while(x < 10){\n",
    "    cat('X is currently:', x)\n",
    "    print('X is still less than 10, addint 1 to X')\n",
    "    \n",
    "    # Add one to x to continue the loop\n",
    "    x <- x+1\n",
    "}"
   ]
  },
  {
   "cell_type": "markdown",
   "metadata": {},
   "source": [
    "The loop stops at 10 since the condition is X < 10. Let's add an IF statement to print once the loop is finished running."
   ]
  },
  {
   "cell_type": "code",
   "execution_count": 6,
   "metadata": {},
   "outputs": [
    {
     "name": "stdout",
     "output_type": "stream",
     "text": [
      "X is currently: 0[1] \"X is still less than 10, addint 1 to X\"\n",
      "X is currently: 1[1] \"X is still less than 10, addint 1 to X\"\n",
      "X is currently: 2[1] \"X is still less than 10, addint 1 to X\"\n",
      "X is currently: 3[1] \"X is still less than 10, addint 1 to X\"\n",
      "X is currently: 4[1] \"X is still less than 10, addint 1 to X\"\n",
      "X is currently: 5[1] \"X is still less than 10, addint 1 to X\"\n",
      "X is currently: 6[1] \"X is still less than 10, addint 1 to X\"\n",
      "X is currently: 7[1] \"X is still less than 10, addint 1 to X\"\n",
      "X is currently: 8[1] \"X is still less than 10, addint 1 to X\"\n",
      "X is currently: 9[1] \"X is still less than 10, addint 1 to X\"\n",
      "[1] \"X is equal to 10. While loop ends\"\n"
     ]
    }
   ],
   "source": [
    "x <- 0\n",
    "\n",
    "while(x < 10){\n",
    "    cat('X is currently:', x)\n",
    "    print('X is still less than 10, add int 1 to X')\n",
    "    \n",
    "    # Add one to x to continue the loop\n",
    "    x <- x+1\n",
    "    if (x==10){\n",
    "        print('X is equal to 10. While loop ends')\n",
    "    }\n",
    "}"
   ]
  },
  {
   "cell_type": "markdown",
   "metadata": {},
   "source": [
    "## Breaks and Next\n",
    "\n",
    "You can use break to break out of a loop. Previously, an if statement was shown to check for the condition X==10, but this wasn't actually stopping the loop; the while condition checking on the next run stopped the loop. This is where break comes in to play. Here is an example of using break to terminate the loop."
   ]
  },
  {
   "cell_type": "code",
   "execution_count": 3,
   "metadata": {},
   "outputs": [
    {
     "name": "stdout",
     "output_type": "stream",
     "text": [
      "X is currently: 0[1] \"X is still less than 10, add int 1 to X\"\n",
      "X is currently: 1[1] \"X is still less than 10, add int 1 to X\"\n",
      "X is currently: 2[1] \"X is still less than 10, add int 1 to X\"\n",
      "X is currently: 3[1] \"X is still less than 10, add int 1 to X\"\n",
      "X is currently: 4[1] \"X is still less than 10, add int 1 to X\"\n",
      "X is currently: 5[1] \"X is still less than 10, add int 1 to X\"\n",
      "X is currently: 6[1] \"X is still less than 10, add int 1 to X\"\n",
      "X is currently: 7[1] \"X is still less than 10, add int 1 to X\"\n",
      "X is currently: 8[1] \"X is still less than 10, add int 1 to X\"\n",
      "X is currently: 9[1] \"X is still less than 10, add int 1 to X\"\n",
      "[1] \"X is equal to 10. While loop ends\"\n",
      "[1] \"Keep printing more statements...\"\n"
     ]
    }
   ],
   "source": [
    "x <- 0\n",
    "\n",
    "while(x < 10){\n",
    "    cat('X is currently:', x)\n",
    "    print('X is still less than 10, add int 1 to X')\n",
    "    \n",
    "    # Add one to x to continue the loop\n",
    "    x <- x+1\n",
    "    if (x==10){\n",
    "        print('X is equal to 10. While loop ends')\n",
    "        print('Keep printing more statements...')\n",
    "    }\n",
    "}"
   ]
  },
  {
   "cell_type": "code",
   "execution_count": 4,
   "metadata": {},
   "outputs": [
    {
     "name": "stdout",
     "output_type": "stream",
     "text": [
      "X is currently: 0[1] \"X is still less than 10, addint 1 to X\"\n",
      "X is currently: 1[1] \"X is still less than 10, addint 1 to X\"\n",
      "X is currently: 2[1] \"X is still less than 10, addint 1 to X\"\n",
      "X is currently: 3[1] \"X is still less than 10, addint 1 to X\"\n",
      "X is currently: 4[1] \"X is still less than 10, addint 1 to X\"\n",
      "X is currently: 5[1] \"X is still less than 10, addint 1 to X\"\n",
      "X is currently: 6[1] \"X is still less than 10, addint 1 to X\"\n",
      "X is currently: 7[1] \"X is still less than 10, addint 1 to X\"\n",
      "X is currently: 8[1] \"X is still less than 10, addint 1 to X\"\n",
      "X is currently: 9[1] \"X is still less than 10, addint 1 to X\"\n",
      "[1] \"X is equal to 10. While loop ends\"\n"
     ]
    }
   ],
   "source": [
    "x <- 0\n",
    "\n",
    "while(x < 10){\n",
    "    cat('X is currently:', x)\n",
    "    print('X is still less than 10, addint 1 to X')\n",
    "    \n",
    "    # Add one to x to continue the loop\n",
    "    x <- x+1\n",
    "    if (x==10){\n",
    "        print('X is equal to 10. While loop ends')\n",
    "        break\n",
    "        print('Keep printing more statements...')\n",
    "    }\n",
    "}"
   ]
  },
  {
   "cell_type": "markdown",
   "metadata": {},
   "source": [
    "Notice how the break stopped the \"Keep printing more statments\" from occuring. You can use this as an internal check inside a while loop to stop based off some other condition."
   ]
  },
  {
   "cell_type": "markdown",
   "metadata": {},
   "source": [
    "NOTE: Break is used to stop a loop, use Next to continue a loop after using an IF, ELSE statement within a while loop. This will be used in the exercise."
   ]
  },
  {
   "cell_type": "code",
   "execution_count": 3,
   "metadata": {},
   "outputs": [
    {
     "name": "stdout",
     "output_type": "stream",
     "text": [
      "[1] 1\n",
      "[1] 2\n",
      "[1] 4\n",
      "[1] 5\n"
     ]
    }
   ],
   "source": [
    "for (x in 1:5){\n",
    "    if (x == 3){\n",
    "        next\n",
    "    }\n",
    "    print(x)\n",
    "}"
   ]
  },
  {
   "cell_type": "code",
   "execution_count": null,
   "metadata": {},
   "outputs": [],
   "source": []
  }
 ],
 "metadata": {
  "kernelspec": {
   "display_name": "R",
   "language": "R",
   "name": "ir"
  },
  "language_info": {
   "codemirror_mode": "r",
   "file_extension": ".r",
   "mimetype": "text/x-r-source",
   "name": "R",
   "pygments_lexer": "r",
   "version": "3.6.1"
  }
 },
 "nbformat": 4,
 "nbformat_minor": 2
}
