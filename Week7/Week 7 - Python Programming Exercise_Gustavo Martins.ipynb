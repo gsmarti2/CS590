{
 "cells": [
  {
   "cell_type": "markdown",
   "metadata": {},
   "source": [
    "![](logo.png)"
   ]
  },
  {
   "cell_type": "markdown",
   "metadata": {},
   "source": [
    "# <font color='red'>Week 7 - Python Programming Exercise Solutions</font>\n",
    "\n",
    "Let's use **while** loops to create a guessing game.\n",
    "\n",
    "The Challenge:\n",
    "\n",
    "    Write a program that picks a random integer from 1 to 100, and has players guess the number. The rules are:\n",
    "\n",
    "    If a player's guess is less than 1 or greater than 100, say \"OUT OF BOUNDS\" and ask for the input again\n",
    "\n",
    "    On a player's first turn, if their guess is\n",
    "    within 10 of the number, return \"WARM!\", but further than 10 away from the number, return \"COLD!\"\n",
    "\n",
    "    On all subsequent turns, if a guess is\n",
    "    closer to the number than the previous guess return \"WARMER!\"\n",
    "\n",
    "    farther from the number than the previous guess, return \"COLDER!\"\n",
    "\n",
    "    When the player's guess equals the number, tell them they've guessed correctly and how many guesses it took"
   ]
  },
  {
   "cell_type": "markdown",
   "metadata": {},
   "source": [
    "#### First, pick a random integer from 1 to 100 using the random module and assign it to a variable\n",
    "\n",
    "Note: **random.randint(a,b)** returns a random integer in range **[a, b]**, including both end points."
   ]
  },
  {
   "cell_type": "code",
   "execution_count": 42,
   "metadata": {},
   "outputs": [],
   "source": [
    "import random"
   ]
  },
  {
   "cell_type": "code",
   "execution_count": 43,
   "metadata": {},
   "outputs": [
    {
     "data": {
      "text/plain": [
       "11"
      ]
     },
     "execution_count": 43,
     "metadata": {},
     "output_type": "execute_result"
    }
   ],
   "source": [
    "num = random.randint(1,100);num"
   ]
  },
  {
   "cell_type": "markdown",
   "metadata": {},
   "source": [
    "#### Next, print an introduction to the game and explain the rules"
   ]
  },
  {
   "cell_type": "code",
   "execution_count": 44,
   "metadata": {},
   "outputs": [
    {
     "name": "stdout",
     "output_type": "stream",
     "text": [
      "WELCOME TO GUESS ME!\n",
      "I'm thinking of a number between 1 and 100...\n",
      "If your guess is more than 10 away from my number, I'll tell you you're COLD\n",
      "If your guess is within 10 of my number, I'll tell you you're WARM\n",
      "If your guess is farther than your most recent guess, I'll say you're getting COLDER\n",
      "If your guess is closer than your most recent guess, I'll say you're getting WARMER\n",
      "LET'S PLAY!\n"
     ]
    }
   ],
   "source": [
    "print(\"WELCOME TO GUESS ME!\")\n",
    "print(\"I'm thinking of a number between 1 and 100...\")\n",
    "print(\"If your guess is more than 10 away from my number, I'll tell you you're COLD\")\n",
    "print(\"If your guess is within 10 of my number, I'll tell you you're WARM\")\n",
    "print(\"If your guess is farther than your most recent guess, I'll say you're getting COLDER\")\n",
    "print(\"If your guess is closer than your most recent guess, I'll say you're getting WARMER\")\n",
    "print(\"LET'S PLAY!\")"
   ]
  },
  {
   "cell_type": "markdown",
   "metadata": {},
   "source": [
    "WELCOME TO GUESS ME!\n",
    "<br>I'm thinking of a number between 1 and 100\n",
    "<br>If your guess is more than 10 away from my number, I'll tell you you're COLD\n",
    "<br>If your guess is within 10 of my number, I'll tell you you're WARM\n",
    "<br>If your guess is farther than your most recent guess, I'll say you're getting COLDER\n",
    "<br>If your guess is closer than your most recent guess, I'll say you're getting WARMER\n",
    "<br>LET'S PLAY!"
   ]
  },
  {
   "cell_type": "markdown",
   "metadata": {},
   "source": [
    "#### Create a list to store guesses\n",
    "\n",
    "HINT: Zero is a good placeholder value in a list. It's useful because it evaluates to \"FALSE\" based on the conditions of the game"
   ]
  },
  {
   "cell_type": "code",
   "execution_count": 45,
   "metadata": {},
   "outputs": [],
   "source": [
    "guesses = [0]"
   ]
  },
  {
   "cell_type": "code",
   "execution_count": 46,
   "metadata": {},
   "outputs": [
    {
     "data": {
      "text/plain": [
       "[0]"
      ]
     },
     "execution_count": 46,
     "metadata": {},
     "output_type": "execute_result"
    }
   ],
   "source": [
    "guesses"
   ]
  },
  {
   "cell_type": "markdown",
   "metadata": {},
   "source": [
    "#### Write a **while** loop that asks for a valid guess only. Test it a few times to make sure it works.\n",
    "\n",
    "This should result in a valid guess that is between 1 to 100 or should evaluate the user input as \"OUT OF BOUNDS\" if the guess is outside of 1 to 100. Use the **input()** function to return a user prompt for a guess. This value can be stored as a variable to evaluate in the game."
   ]
  },
  {
   "cell_type": "code",
   "execution_count": 47,
   "metadata": {},
   "outputs": [
    {
     "name": "stdout",
     "output_type": "stream",
     "text": [
      "Run to get a user prompt 25\n"
     ]
    },
    {
     "data": {
      "text/plain": [
       "'25'"
      ]
     },
     "execution_count": 47,
     "metadata": {},
     "output_type": "execute_result"
    }
   ],
   "source": [
    "#Use input to get a user input prompt. The system will print the user input after pressing enter\n",
    "#This can be stored as a variable and used in the while loop\n",
    "input(\"Run to get a user prompt \")"
   ]
  },
  {
   "cell_type": "code",
   "execution_count": 48,
   "metadata": {},
   "outputs": [
    {
     "name": "stdout",
     "output_type": "stream",
     "text": [
      "Guess a number between 1 and 100.\n",
      "What is your guess? 101\n",
      "OUT OF BOUNDS. Please try again: \n",
      "Guess a number between 1 and 100.\n",
      "What is your guess? 89\n"
     ]
    }
   ],
   "source": [
    "while True:\n",
    "\n",
    "    guess = int(input(\"Guess a number between 1 and 100.\\nWhat is your guess? \"))\n",
    "    \n",
    "    if guess < 1 or guess > 100:\n",
    "        print('OUT OF BOUNDS. Please try again: ')\n",
    "        continue\n",
    "        \n",
    "    if guess >= 1 or guess <= 100:\n",
    "        break"
   ]
  },
  {
   "cell_type": "markdown",
   "metadata": {},
   "source": [
    "Guess a number between 1 and 100.\n",
    "<br>What is your guess? 101\n",
    "<br>OUT OF BOUNDS. Please try again: \n",
    "<br>Guess a number between 1 and 100.\n",
    "<br>What is your guess? 89"
   ]
  },
  {
   "cell_type": "markdown",
   "metadata": {},
   "source": [
    "#### Write a while loop that compares the player's guess to our number. If the player guesses correctly, break from the loop. Otherwise, tell the player if they're warmer or colder, and continue asking for guesses.\n",
    "\n",
    "Some hints:\n",
    "* It may help to sketch out all possible combinations on paper first\n",
    "* Use a difference of 10 to suggest 'warm' or 'cold'\n",
    "* You can use the **abs()** function to find the positive difference between two numbers. If the user is closer to the value than the previous guess say 'warmer' otherwise say 'colder'\n",
    "* Use **append()** to append all new guesses to the list (placeholder). That way the previous guess is given as **guesses[-2]**\n",
    "* For the initial guess, guesses[-2] == 0 which resolves to FALSE. Use this to determine warm and cold vs warmer and colder"
   ]
  },
  {
   "cell_type": "code",
   "execution_count": 49,
   "metadata": {},
   "outputs": [
    {
     "name": "stdout",
     "output_type": "stream",
     "text": [
      "Guess a number between 1 and 100.\n",
      " What is your guess? 50\n",
      "COLD!\n",
      "Guess a number between 1 and 100.\n",
      " What is your guess? 30\n",
      "WARMER!\n",
      "Guess a number between 1 and 100.\n",
      " What is your guess? 10\n",
      "WARMER!\n",
      "Guess a number between 1 and 100.\n",
      " What is your guess? 5\n",
      "COLDER!\n",
      "Guess a number between 1 and 100.\n",
      " What is your guess? 15\n",
      "WARMER!\n",
      "Guess a number between 1 and 100.\n",
      " What is your guess? 11\n",
      "CONGRATULATIONS, YOU GUESSED IT IN ONLY 6 GUESSES\n"
     ]
    }
   ],
   "source": [
    "while True:\n",
    "    \n",
    "    guess = int(input(\"Guess a number between 1 and 100.\\n What is your guess? \"))\n",
    "    \n",
    "    if guess < 1 or guess > 100:\n",
    "        print('OUT OF BOUNDS. Please try again: ')\n",
    "        continue\n",
    "    \n",
    "    if guess == num:\n",
    "        print('CONGRATULATIONS, YOU GUESSED IT IN ONLY %s GUESSES'%(len(guesses)))\n",
    "        break\n",
    "    \n",
    "    guesses.append(guess)\n",
    "    \n",
    "    if guesses[-2]:  \n",
    "        if abs(num-guess) < abs(num-guesses[-2]):\n",
    "            print('WARMER!')\n",
    "        else:\n",
    "            print('COLDER!')\n",
    "    \n",
    "    else:\n",
    "        if abs(num-guess) <= 10:\n",
    "            print('WARM!')\n",
    "        else:\n",
    "            print('COLD!')"
   ]
  },
  {
   "cell_type": "markdown",
   "metadata": {},
   "source": [
    "#### Lastly, compile everything together in a single cell to run, including the random integer and the list for compiling the guesses"
   ]
  },
  {
   "cell_type": "code",
   "execution_count": 50,
   "metadata": {},
   "outputs": [
    {
     "name": "stdout",
     "output_type": "stream",
     "text": [
      "WELCOME TO GUESS ME!\n",
      "I'm thinking of a number between 1 and 100...\n",
      "If your guess is more than 10 away from my number, I'll tell you you're COLD\n",
      "If your guess is within 10 of my number, I'll tell you you're WARM\n",
      "If your guess is farther than your most recent guess, I'll say you're getting COLDER\n",
      "If your guess is closer than your most recent guess, I'll say you're getting WARMER\n",
      "LET'S PLAY!\n",
      "Guess a number between 1 and 100.\n",
      " What is your guess? 50\n",
      "COLD!\n",
      "Guess a number between 1 and 100.\n",
      " What is your guess? 30\n",
      "WARMER!\n",
      "Guess a number between 1 and 100.\n",
      " What is your guess? 10\n",
      "WARMER!\n",
      "Guess a number between 1 and 100.\n",
      " What is your guess? 5\n",
      "WARMER!\n",
      "Guess a number between 1 and 100.\n",
      " What is your guess? 1\n",
      "CONGRATULATIONS, YOU GUESSED IT IN ONLY 5 GUESSES\n"
     ]
    }
   ],
   "source": [
    "print(\"WELCOME TO GUESS ME!\")\n",
    "print(\"I'm thinking of a number between 1 and 100...\")\n",
    "print(\"If your guess is more than 10 away from my number, I'll tell you you're COLD\")\n",
    "print(\"If your guess is within 10 of my number, I'll tell you you're WARM\")\n",
    "print(\"If your guess is farther than your most recent guess, I'll say you're getting COLDER\")\n",
    "print(\"If your guess is closer than your most recent guess, I'll say you're getting WARMER\")\n",
    "print(\"LET'S PLAY!\")\n",
    "\n",
    "import random\n",
    "\n",
    "num = random.randint(1,100);num\n",
    "guesses = [0]\n",
    "\n",
    "while True:\n",
    "    \n",
    "    guess = int(input(\"Guess a number between 1 and 100.\\n What is your guess? \"))\n",
    "    \n",
    "    if guess < 1 or guess > 100:\n",
    "        print('OUT OF BOUNDS. Please try again: ')\n",
    "        continue\n",
    "    \n",
    "    if guess == num:\n",
    "        print('CONGRATULATIONS, YOU GUESSED IT IN ONLY %s GUESSES'%(len(guesses)))\n",
    "        break\n",
    "    \n",
    "    guesses.append(guess)\n",
    "    \n",
    "    if guesses[-2]:  \n",
    "        if abs(num-guess) < abs(num-guesses[-2]):\n",
    "            print('WARMER!')\n",
    "        else:\n",
    "            print('COLDER!')\n",
    "    \n",
    "    else:\n",
    "        if abs(num-guess) <= 10:\n",
    "            print('WARM!')\n",
    "        else:\n",
    "            print('COLD!')"
   ]
  }
 ],
 "metadata": {
  "kernelspec": {
   "display_name": "Python 3",
   "language": "python",
   "name": "python3"
  },
  "language_info": {
   "codemirror_mode": {
    "name": "ipython",
    "version": 3
   },
   "file_extension": ".py",
   "mimetype": "text/x-python",
   "name": "python",
   "nbconvert_exporter": "python",
   "pygments_lexer": "ipython3",
   "version": "3.7.3"
  }
 },
 "nbformat": 4,
 "nbformat_minor": 2
}
