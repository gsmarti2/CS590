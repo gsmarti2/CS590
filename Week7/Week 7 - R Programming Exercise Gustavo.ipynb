{
 "cells": [
  {
   "cell_type": "markdown",
   "metadata": {},
   "source": [
    "![](logo.png)"
   ]
  },
  {
   "cell_type": "markdown",
   "metadata": {},
   "source": [
    "# <font color='red'>Week 7 - Python Programming Exercise Solutions</font>\n",
    "\n",
    "Let's use **while** loops to create a guessing game.\n",
    "\n",
    "The Challenge:\n",
    "\n",
    "    Write a program that picks a random integer from 1 to 100, and has players guess the number. The rules are:\n",
    "\n",
    "    If a player's guess is less than 1 or greater than 100, say \"OUT OF BOUNDS\" and ask for the input again\n",
    "\n",
    "    On a player's first turn, if their guess is\n",
    "    within 10 of the number, return \"WARM!\"\n",
    "\n",
    "    further than 10 away from the number, return \"COLD!\"\n",
    "\n",
    "    On all subsequent turns, if a guess is\n",
    "    closer to the number than the previous guess return \"WARMER!\"\n",
    "\n",
    "    farther from the number than the previous guess, return \"COLDER!\"\n",
    "\n",
    "    When the player's guess equals the number, tell them they've guessed correctly and how many guesses it took!"
   ]
  },
  {
   "cell_type": "markdown",
   "metadata": {},
   "source": [
    "#### First, pick a random integer from 1 to 100 and assign it to a variable\n",
    "\n",
    "Note: **sample()** allows you to select a random integer between two values - run help(sample) to determine the syntax"
   ]
  },
  {
   "cell_type": "code",
   "execution_count": 1,
   "metadata": {},
   "outputs": [],
   "source": [
    "num<-sample(1:100,size = 1)"
   ]
  },
  {
   "cell_type": "code",
   "execution_count": 2,
   "metadata": {},
   "outputs": [
    {
     "data": {
      "text/html": [
       "86"
      ],
      "text/latex": [
       "86"
      ],
      "text/markdown": [
       "86"
      ],
      "text/plain": [
       "[1] 86"
      ]
     },
     "metadata": {},
     "output_type": "display_data"
    }
   ],
   "source": [
    "num"
   ]
  },
  {
   "cell_type": "markdown",
   "metadata": {},
   "source": [
    "#### Next, print an introduction to the game and explain the rules"
   ]
  },
  {
   "cell_type": "code",
   "execution_count": 3,
   "metadata": {},
   "outputs": [
    {
     "name": "stdout",
     "output_type": "stream",
     "text": [
      "[1] \"WELCOME TO GUESS ME!\"\n",
      "[1] \"I'm thinking of a number between 1 and 100\"\n",
      "[1] \"If your guess is more than 10 away from my number, I'll tell you you're COLD\"\n",
      "[1] \"If your guess is within 10 of my number, I'll tell you you're WARM\"\n",
      "[1] \"If your guess is farther than your most recent guess, I'll say you're getting COLDER\"\n",
      "[1] \"If your guess is closer than your most recent guess, I'll say you're getting WARMER\"\n",
      "[1] \"LET'S PLAY!\"\n"
     ]
    }
   ],
   "source": [
    "print(\"WELCOME TO GUESS ME!\")\n",
    "print(\"I'm thinking of a number between 1 and 100\")\n",
    "print(\"If your guess is more than 10 away from my number, I'll tell you you're COLD\")\n",
    "print(\"If your guess is within 10 of my number, I'll tell you you're WARM\")\n",
    "print(\"If your guess is farther than your most recent guess, I'll say you're getting COLDER\")\n",
    "print(\"If your guess is closer than your most recent guess, I'll say you're getting WARMER\")\n",
    "print(\"LET'S PLAY!\")"
   ]
  },
  {
   "cell_type": "markdown",
   "metadata": {},
   "source": [
    "[1] \"WELCOME TO GUESS ME!\"\n",
    "<br>[1] \"I'm thinking of a number between 1 and 100\"\n",
    "<br>[1] \"If your guess is more than 10 away from my number, I'll tell you you're COLD\"\n",
    "<br>[1] \"If your guess is within 10 of my number, I'll tell you you're WARM\"\n",
    "<br>[1] \"If your guess is farther than your most recent guess, I'll say you're getting COLDER\"\n",
    "<br>[1] \"If your guess is closer than your most recent guess, I'll say you're getting WARMER\"\n",
    "<br>[1] \"LET'S PLAY!\""
   ]
  },
  {
   "cell_type": "markdown",
   "metadata": {},
   "source": [
    "#### Create a list to store guesses\n",
    "\n",
    "HINT: Zero is a good placeholder value. It's useful because it evaluates to \"FALSE\" based on the conditions of the game"
   ]
  },
  {
   "cell_type": "code",
   "execution_count": 3,
   "metadata": {},
   "outputs": [],
   "source": [
    "guesses <- list(0)"
   ]
  },
  {
   "cell_type": "code",
   "execution_count": 4,
   "metadata": {},
   "outputs": [
    {
     "data": {
      "text/html": [
       "<ol>\n",
       "\t<li>0</li>\n",
       "</ol>\n"
      ],
      "text/latex": [
       "\\begin{enumerate}\n",
       "\\item 0\n",
       "\\end{enumerate}\n"
      ],
      "text/markdown": [
       "1. 0\n",
       "\n",
       "\n"
      ],
      "text/plain": [
       "[[1]]\n",
       "[1] 0\n"
      ]
     },
     "metadata": {},
     "output_type": "display_data"
    }
   ],
   "source": [
    "guesses"
   ]
  },
  {
   "cell_type": "markdown",
   "metadata": {},
   "source": [
    "#### Write a **while** loop that asks for a valid guess. Test it a few times to make sure it works.\n",
    "\n",
    "NOTE: Use the built-in R function **readlines()** to get user input. Use **message()** to print text to the console while the loop is running"
   ]
  },
  {
   "cell_type": "code",
   "execution_count": 5,
   "metadata": {},
   "outputs": [
    {
     "name": "stdout",
     "output_type": "stream",
     "text": [
      "Run to get a user prompt 50\n"
     ]
    }
   ],
   "source": [
    "# Use readline() to get a user input prompt. The system will print the user input after pressing enter\n",
    "#This can be stored as a variable and used in the while loop\n",
    "guess<-as.numeric(readline(prompt=\"Run to get a user prompt \"))"
   ]
  },
  {
   "cell_type": "code",
   "execution_count": 1,
   "metadata": {},
   "outputs": [
    {
     "name": "stdout",
     "output_type": "stream",
     "text": [
      "Guess a number between 1 and 100.\n",
      "What is your guess? 101\n",
      "OUT OF BOUNDS. Please Try Again:\n",
      "Guess a number between 1 and 100.\n",
      "What is your guess? 5\n"
     ]
    }
   ],
   "source": [
    "while( TRUE ){\n",
    "    \n",
    "    guess<-as.numeric(readline(prompt=\"Guess a number between 1 and 100.\\nWhat is your guess? \"))\n",
    "    \n",
    "    if( guess<1 | guess>100 ){\n",
    "        cat(\"OUT OF BOUNDS. Please Try Again:\\n\");flush.console()\n",
    "        next\n",
    "    }\n",
    "    else {\n",
    "        break\n",
    "    }\n",
    "}"
   ]
  },
  {
   "cell_type": "markdown",
   "metadata": {},
   "source": [
    "Guess a number between 1 and 100.\n",
    "What is your guess? 101\n",
    "OUT OF BOUNDS. Please Try Again:\n",
    "Guess a number between 1 and 100.\n",
    "What is your guess? 5"
   ]
  },
  {
   "cell_type": "markdown",
   "metadata": {},
   "source": [
    "#### Write a **while** loop that compares the player's guess to our number. If the player guesses correctly, break from the loop. Otherwise, tell the player if they're warmer or colder, and continue asking for guesses.\n",
    "\n",
    "Some hints:\n",
    "* It may help to sketch out all possible combinations on paper first\n",
    "* Use a difference of 10 to suggest warm or cold\n",
    "* you can use the **abs()** function to find the positive difference between two numbers\n",
    "* Use **append()** to append all new guesses to the list, then the previous guess is given as guesses[length(guesses)-1]\n",
    "* For the initial guess, lenght(guesses)-1 == 0, which resolves to FALSE. Use this to determine warm and cold vs warmer and colder"
   ]
  },
  {
   "cell_type": "markdown",
   "metadata": {},
   "source": [
    "Guess a number between 1 and 100.\n",
    "<br>What is your guess? 21\n",
    "<br>COLD!\n",
    "<br>Guess a number between 1 and 100.\n",
    "<br>What is your guess? 50\n",
    "<br>WARMER!\n",
    "<br>Guess a number between 1 and 100.\n",
    "<br>What is your guess? 79\n",
    "<br>COLDER!\n",
    "<br>Guess a number between 1 and 100.\n",
    "<br>What is your guess? 65\n",
    "<br>WARMER!\n",
    "<br>Guess a number between 1 and 100.\n",
    "<br>What is your guess? 62\n",
    "<br>WARMER!\n",
    "<br>Guess a number between 1 and 100.\n",
    "<br>What is your guess? 60\n",
    "<br>CONGRATULATIONS, YOU GUESSED IT IN ONLY 6 GUESSES"
   ]
  },
  {
   "cell_type": "markdown",
   "metadata": {},
   "source": [
    "#### Lastly, compile everything together in a single cell to run, including the random integer and the list for compiling the guesses"
   ]
  },
  {
   "cell_type": "code",
   "execution_count": 8,
   "metadata": {
    "scrolled": false
   },
   "outputs": [
    {
     "name": "stdout",
     "output_type": "stream",
     "text": [
      "\n",
      "#####  WELCOME TO GUESS ME! #####\n",
      "\n",
      " I'm thinking of a number between 1 and 100\n",
      " If your guess is more than 10 away from my number, I'll tell you you're COLD\n",
      " If your guess is within 10 of my number, I'll tell you you're WARM\n",
      " If your guess is farther than your most recent guess, I'll say you're getting COLDER\n",
      " If your guess is closer than your most recent guess, I'll say you're getting WARMER\n",
      " LET'S PLAY! \n",
      " \n",
      "Guess a number between 1 and 100.50\n",
      "YOUR GUESS NUMBER 1 IS 50 \n",
      "WARM! \n",
      " \n",
      "Guess a number between 1 and 100.41\n",
      "YOUR GUESS NUMBER 2 IS 41 \n",
      "COLDER! \n",
      " \n",
      "Guess a number between 1 and 100.55\n",
      "YOUR GUESS NUMBER 3 IS 55 \n",
      "\n",
      "CONGRATULATIONS!!!!!!!!!!!!!!!!!! \n",
      "YOU GUESSED IT IN ONLY 3 GUESSES"
     ]
    }
   ],
   "source": [
    "cat(\"\\n\")\n",
    "cat(\"#####  WELCOME TO GUESS ME! #####\")\n",
    "cat(\"\\n\")\n",
    "cat(\"\\n\",\"I'm thinking of a number between 1 and 100\")\n",
    "cat(\"\\n\",\"If your guess is more than 10 away from my number, I'll tell you you're COLD\")\n",
    "cat(\"\\n\",\"If your guess is within 10 of my number, I'll tell you you're WARM\")\n",
    "cat(\"\\n\",\"If your guess is farther than your most recent guess, I'll say you're getting COLDER\")\n",
    "cat(\"\\n\",\"If your guess is closer than your most recent guess, I'll say you're getting WARMER\")\n",
    "cat(\"\\n\",\"LET'S PLAY!\",\"\\n\",\"\\n\")\n",
    "\n",
    "# Sampling the random number\n",
    "num<-sample(1:100,size = 1)\n",
    "\n",
    "# Creating the list of guesses\n",
    "guesses<-list(0)\n",
    "\n",
    "#While loop\n",
    "while( TRUE ){\n",
    "    \n",
    "    guess<-as.numeric(readline(prompt=\"Guess a number between 1 and 100.\"))\n",
    "    \n",
    "    # FIRST IF TO CONSIDER THAT THE USER WOULD HIT ENTER WITH NO GUESS\n",
    "    \n",
    "    if( is.na(guess)==F ){                      # IF ----> GOT A GUESS\n",
    "      guesses <- c(guesses,guess)\n",
    "      cat(paste(\"YOUR GUESS NUMBER\",length(guesses)-1,\"IS\",guess,\"\\n\"));flush.console()\n",
    "    \n",
    "          if( guess<1 | guess>100 ){\n",
    "              cat(\"OUT OF BOUNDS\",\"\\n\",\"\\n\");flush.console()\n",
    "              next\n",
    "          }\n",
    "          else if( length(guesses)<=2 & (abs(num-guess)>10) ){\n",
    "              cat(\"COLD!\",\"\\n\",\"\\n\");flush.console()\n",
    "              next\n",
    "          }\n",
    "          else if( length(guesses)<=2 & (abs(num-guess)<=10) ){\n",
    "              cat(\"WARM!\",\"\\n\",\"\\n\");flush.console()\n",
    "              next\n",
    "          }\n",
    "          else if( ( guess!=num )& \n",
    "                   ( length(guesses)>2 )& \n",
    "                   ( abs(guess-num) > (abs(as.numeric(guesses[length(guesses)-1])-num)) )\n",
    "                  ){\n",
    "              cat(\"COLDER!\",\"\\n\",\"\\n\");flush.console()\n",
    "              next\n",
    "          }\n",
    "          else if( ( guess!=num )& \n",
    "                   ( length(guesses)>2 )& \n",
    "                   ( abs(guess-num) < (abs(as.numeric(guesses[length(guesses)-1])-num)) )\n",
    "                 ){\n",
    "              cat(\"WARMER!\",\"\\n\",\"\\n\");flush.console()\n",
    "              next\n",
    "          }\n",
    "          else{\n",
    "              cat(\"\\n\")\n",
    "              cat(paste(\"CONGRATULATIONS!!!!!!!!!!!!!!!!!!\",\"\\n\"))\n",
    "              cat(paste(\"YOU GUESSED IT IN ONLY\",length(guesses)-1,\"GUESSES\"));flush.console()\n",
    "              break\n",
    "          }\n",
    "    }\n",
    "    else{                               # ELSE 1st IF ----> GUESS = NA\n",
    "        guesses <- c(guesses,guesses[length(guesses)-1])\n",
    "        guess<-guesses[length(guesses)]\n",
    "        cat(\"I NEED A NUMBER, PLEASE!!!\",\"\\n\",\"\\n\");flush.console()\n",
    "    }                                              #END OF NA CHECK IF\n",
    "    cat(\"\\n\");flush.console()\n",
    "}                                                       # ENF OF WHILE"
   ]
  }
 ],
 "metadata": {
  "kernelspec": {
   "display_name": "R",
   "language": "R",
   "name": "ir"
  },
  "language_info": {
   "codemirror_mode": "r",
   "file_extension": ".r",
   "mimetype": "text/x-r-source",
   "name": "R",
   "pygments_lexer": "r",
   "version": "3.6.1"
  }
 },
 "nbformat": 4,
 "nbformat_minor": 2
}
