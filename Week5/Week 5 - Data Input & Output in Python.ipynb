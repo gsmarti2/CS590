{
 "cells": [
  {
   "cell_type": "markdown",
   "metadata": {},
   "source": [
    "![](logo.png)"
   ]
  },
  {
   "cell_type": "markdown",
   "metadata": {},
   "source": [
    "# <font color='red'>Data Input & Output in Python</font>\n",
    "\n",
    "> ### CSV Input & Output\n",
    "> ### Excel Input & Output\n",
    "> ### SQL with Python\n",
    "> ### Webscraping with Python"
   ]
  },
  {
   "cell_type": "markdown",
   "metadata": {},
   "source": [
    "## Working Directories\n",
    "\n",
    "In order to read files into dataframes in Python, the files and the jupyter notebook need to contained within the same folder. If the files are located in a different folder than the jupyter notebook, the working directory needs to be changed to that location. To get the current working directory (location on the computer) use the **OS** library and the **getcwd()** method to get the current working directory.\n",
    "\n",
    "To set a new path (location), use the OS method **chdir()** to change the directory to the location of the saved files you want to input to R."
   ]
  },
  {
   "cell_type": "code",
   "execution_count": 1,
   "metadata": {},
   "outputs": [],
   "source": [
    "#Import the os library\n",
    "import os"
   ]
  },
  {
   "cell_type": "code",
   "execution_count": 2,
   "metadata": {},
   "outputs": [
    {
     "data": {
      "text/plain": [
       "'C:\\\\Users\\\\jcdunne\\\\NC State PB&G Dropbox\\\\Jeffrey Dunne\\\\CS590 Course Content\\\\Week 5\\\\Python'"
      ]
     },
     "execution_count": 2,
     "metadata": {},
     "output_type": "execute_result"
    }
   ],
   "source": [
    "# Check the current working directory\n",
    "os.getcwd()"
   ]
  },
  {
   "cell_type": "code",
   "execution_count": 3,
   "metadata": {},
   "outputs": [],
   "source": [
    "# Change the working directory\n",
    "os.chdir('C:\\\\Users\\\\jcdunne\\\\NC State PB&G Dropbox\\\\Jeffrey Dunne\\\\CS590 Course Content')"
   ]
  },
  {
   "cell_type": "code",
   "execution_count": 4,
   "metadata": {},
   "outputs": [
    {
     "data": {
      "text/plain": [
       "'C:\\\\Users\\\\jcdunne\\\\NC State PB&G Dropbox\\\\Jeffrey Dunne\\\\CS590 Course Content'"
      ]
     },
     "execution_count": 4,
     "metadata": {},
     "output_type": "execute_result"
    }
   ],
   "source": [
    "# Check the current working directory\n",
    "os.getcwd()"
   ]
  },
  {
   "cell_type": "code",
   "execution_count": 5,
   "metadata": {},
   "outputs": [],
   "source": [
    "# Change back to original directory\n",
    "os.chdir('C:\\\\Users\\\\jcdunne\\\\NC State PB&G Dropbox\\\\Jeffrey Dunne\\\\CS590 Course Content\\\\Week 5\\\\Python')"
   ]
  },
  {
   "cell_type": "code",
   "execution_count": 6,
   "metadata": {},
   "outputs": [
    {
     "data": {
      "text/plain": [
       "'C:\\\\Users\\\\jcdunne\\\\NC State PB&G Dropbox\\\\Jeffrey Dunne\\\\CS590 Course Content\\\\Week 5\\\\Python'"
      ]
     },
     "execution_count": 6,
     "metadata": {},
     "output_type": "execute_result"
    }
   ],
   "source": [
    "os.getcwd()"
   ]
  },
  {
   "cell_type": "markdown",
   "metadata": {},
   "source": [
    "# <font color='red'>Data Input and Output</font>\n",
    "\n",
    "This notebook is the reference code for getting input and output, pandas can read a variety of file types using its pd.read_ methods. Let's take a look at the most common data types:"
   ]
  },
  {
   "cell_type": "markdown",
   "metadata": {},
   "source": [
    "## CSV Input & Output\n",
    "\n",
    "Use the Pandas built-in method **read_csv()** to read in comma separated value files into Pandas dataframes"
   ]
  },
  {
   "cell_type": "code",
   "execution_count": 7,
   "metadata": {},
   "outputs": [],
   "source": [
    "# Load the NumPy and Pandas library\n",
    "import numpy as np\n",
    "import pandas as pd"
   ]
  },
  {
   "cell_type": "code",
   "execution_count": 8,
   "metadata": {},
   "outputs": [],
   "source": [
    "# Read in example.csv - Encoding is the format of the file. Use 'ISO-8859-1'\n",
    "df = pd.read_csv('example.csv', encoding='ISO-8859-1')"
   ]
  },
  {
   "cell_type": "code",
   "execution_count": 9,
   "metadata": {},
   "outputs": [
    {
     "data": {
      "text/html": [
       "<div>\n",
       "<style scoped>\n",
       "    .dataframe tbody tr th:only-of-type {\n",
       "        vertical-align: middle;\n",
       "    }\n",
       "\n",
       "    .dataframe tbody tr th {\n",
       "        vertical-align: top;\n",
       "    }\n",
       "\n",
       "    .dataframe thead th {\n",
       "        text-align: right;\n",
       "    }\n",
       "</style>\n",
       "<table border=\"1\" class=\"dataframe\">\n",
       "  <thead>\n",
       "    <tr style=\"text-align: right;\">\n",
       "      <th></th>\n",
       "      <th>NC_Accession</th>\n",
       "      <th>Identity or Parentage</th>\n",
       "      <th>Pedigree</th>\n",
       "      <th>FAG</th>\n",
       "    </tr>\n",
       "  </thead>\n",
       "  <tbody>\n",
       "    <tr>\n",
       "      <td>0</td>\n",
       "      <td>ACI WT09-0761</td>\n",
       "      <td>ACI WT09-0761</td>\n",
       "      <td>NaN</td>\n",
       "      <td>Check</td>\n",
       "    </tr>\n",
       "    <tr>\n",
       "      <td>1</td>\n",
       "      <td>ACI WT11-0351</td>\n",
       "      <td>ACI WT11-0351</td>\n",
       "      <td>NaN</td>\n",
       "      <td>ol ol</td>\n",
       "    </tr>\n",
       "    <tr>\n",
       "      <td>2</td>\n",
       "      <td>ACI WT12-0226</td>\n",
       "      <td>ACI WT12-0226</td>\n",
       "      <td>NaN</td>\n",
       "      <td>ol ol</td>\n",
       "    </tr>\n",
       "    <tr>\n",
       "      <td>3</td>\n",
       "      <td>ACI WT12-0419</td>\n",
       "      <td>ACI WT12-0419</td>\n",
       "      <td>NaN</td>\n",
       "      <td>Check</td>\n",
       "    </tr>\n",
       "    <tr>\n",
       "      <td>4</td>\n",
       "      <td>ACI WT12-0420</td>\n",
       "      <td>ACI WT12-0420</td>\n",
       "      <td>NaN</td>\n",
       "      <td>ol ol</td>\n",
       "    </tr>\n",
       "  </tbody>\n",
       "</table>\n",
       "</div>"
      ],
      "text/plain": [
       "    NC_Accession Identity or Parentage Pedigree    FAG\n",
       "0  ACI WT09-0761         ACI WT09-0761      NaN  Check\n",
       "1  ACI WT11-0351         ACI WT11-0351      NaN  ol ol\n",
       "2  ACI WT12-0226         ACI WT12-0226      NaN  ol ol\n",
       "3  ACI WT12-0419         ACI WT12-0419      NaN  Check\n",
       "4  ACI WT12-0420         ACI WT12-0420      NaN  ol ol"
      ]
     },
     "execution_count": 9,
     "metadata": {},
     "output_type": "execute_result"
    }
   ],
   "source": [
    "# Check the head of the dataframe\n",
    "df.head()"
   ]
  },
  {
   "cell_type": "markdown",
   "metadata": {},
   "source": [
    "To export a csv file, use the Pandas method **to_csv()** to export the file"
   ]
  },
  {
   "cell_type": "code",
   "execution_count": 10,
   "metadata": {},
   "outputs": [],
   "source": [
    "# Export csv file to current directory\n",
    "df.to_csv('export_ex.csv')"
   ]
  },
  {
   "cell_type": "code",
   "execution_count": 11,
   "metadata": {},
   "outputs": [
    {
     "data": {
      "text/html": [
       "<div>\n",
       "<style scoped>\n",
       "    .dataframe tbody tr th:only-of-type {\n",
       "        vertical-align: middle;\n",
       "    }\n",
       "\n",
       "    .dataframe tbody tr th {\n",
       "        vertical-align: top;\n",
       "    }\n",
       "\n",
       "    .dataframe thead th {\n",
       "        text-align: right;\n",
       "    }\n",
       "</style>\n",
       "<table border=\"1\" class=\"dataframe\">\n",
       "  <thead>\n",
       "    <tr style=\"text-align: right;\">\n",
       "      <th></th>\n",
       "      <th>Unnamed: 0</th>\n",
       "      <th>NC_Accession</th>\n",
       "      <th>Identity or Parentage</th>\n",
       "      <th>Pedigree</th>\n",
       "      <th>FAG</th>\n",
       "    </tr>\n",
       "  </thead>\n",
       "  <tbody>\n",
       "    <tr>\n",
       "      <td>0</td>\n",
       "      <td>0</td>\n",
       "      <td>ACI WT09-0761</td>\n",
       "      <td>ACI WT09-0761</td>\n",
       "      <td>NaN</td>\n",
       "      <td>Check</td>\n",
       "    </tr>\n",
       "    <tr>\n",
       "      <td>1</td>\n",
       "      <td>1</td>\n",
       "      <td>ACI WT11-0351</td>\n",
       "      <td>ACI WT11-0351</td>\n",
       "      <td>NaN</td>\n",
       "      <td>ol ol</td>\n",
       "    </tr>\n",
       "    <tr>\n",
       "      <td>2</td>\n",
       "      <td>2</td>\n",
       "      <td>ACI WT12-0226</td>\n",
       "      <td>ACI WT12-0226</td>\n",
       "      <td>NaN</td>\n",
       "      <td>ol ol</td>\n",
       "    </tr>\n",
       "    <tr>\n",
       "      <td>3</td>\n",
       "      <td>3</td>\n",
       "      <td>ACI WT12-0419</td>\n",
       "      <td>ACI WT12-0419</td>\n",
       "      <td>NaN</td>\n",
       "      <td>Check</td>\n",
       "    </tr>\n",
       "    <tr>\n",
       "      <td>4</td>\n",
       "      <td>4</td>\n",
       "      <td>ACI WT12-0420</td>\n",
       "      <td>ACI WT12-0420</td>\n",
       "      <td>NaN</td>\n",
       "      <td>ol ol</td>\n",
       "    </tr>\n",
       "    <tr>\n",
       "      <td>...</td>\n",
       "      <td>...</td>\n",
       "      <td>...</td>\n",
       "      <td>...</td>\n",
       "      <td>...</td>\n",
       "      <td>...</td>\n",
       "    </tr>\n",
       "    <tr>\n",
       "      <td>854</td>\n",
       "      <td>854</td>\n",
       "      <td>NaN</td>\n",
       "      <td>NaN</td>\n",
       "      <td>NaN</td>\n",
       "      <td>NaN</td>\n",
       "    </tr>\n",
       "    <tr>\n",
       "      <td>855</td>\n",
       "      <td>855</td>\n",
       "      <td>NaN</td>\n",
       "      <td>NaN</td>\n",
       "      <td>NaN</td>\n",
       "      <td>NaN</td>\n",
       "    </tr>\n",
       "    <tr>\n",
       "      <td>856</td>\n",
       "      <td>856</td>\n",
       "      <td>NaN</td>\n",
       "      <td>NaN</td>\n",
       "      <td>NaN</td>\n",
       "      <td>NaN</td>\n",
       "    </tr>\n",
       "    <tr>\n",
       "      <td>857</td>\n",
       "      <td>857</td>\n",
       "      <td>NaN</td>\n",
       "      <td>NaN</td>\n",
       "      <td>NaN</td>\n",
       "      <td>NaN</td>\n",
       "    </tr>\n",
       "    <tr>\n",
       "      <td>858</td>\n",
       "      <td>858</td>\n",
       "      <td>NaN</td>\n",
       "      <td>NaN</td>\n",
       "      <td>NaN</td>\n",
       "      <td>NaN</td>\n",
       "    </tr>\n",
       "  </tbody>\n",
       "</table>\n",
       "<p>859 rows × 5 columns</p>\n",
       "</div>"
      ],
      "text/plain": [
       "     Unnamed: 0   NC_Accession Identity or Parentage Pedigree    FAG\n",
       "0             0  ACI WT09-0761         ACI WT09-0761      NaN  Check\n",
       "1             1  ACI WT11-0351         ACI WT11-0351      NaN  ol ol\n",
       "2             2  ACI WT12-0226         ACI WT12-0226      NaN  ol ol\n",
       "3             3  ACI WT12-0419         ACI WT12-0419      NaN  Check\n",
       "4             4  ACI WT12-0420         ACI WT12-0420      NaN  ol ol\n",
       "..          ...            ...                   ...      ...    ...\n",
       "854         854            NaN                   NaN      NaN    NaN\n",
       "855         855            NaN                   NaN      NaN    NaN\n",
       "856         856            NaN                   NaN      NaN    NaN\n",
       "857         857            NaN                   NaN      NaN    NaN\n",
       "858         858            NaN                   NaN      NaN    NaN\n",
       "\n",
       "[859 rows x 5 columns]"
      ]
     },
     "execution_count": 11,
     "metadata": {},
     "output_type": "execute_result"
    }
   ],
   "source": [
    "# Check the export\n",
    "pd.read_csv('export_ex.csv')"
   ]
  },
  {
   "cell_type": "markdown",
   "metadata": {},
   "source": [
    "NOTE: The index for the rows was exported to the 'export_ex.csv' file. In order to drop the index values, used the index=False."
   ]
  },
  {
   "cell_type": "code",
   "execution_count": 12,
   "metadata": {},
   "outputs": [],
   "source": [
    "# Drop the index values\n",
    "df.to_csv('export_ex.csv', index=False)"
   ]
  },
  {
   "cell_type": "code",
   "execution_count": 13,
   "metadata": {},
   "outputs": [
    {
     "data": {
      "text/html": [
       "<div>\n",
       "<style scoped>\n",
       "    .dataframe tbody tr th:only-of-type {\n",
       "        vertical-align: middle;\n",
       "    }\n",
       "\n",
       "    .dataframe tbody tr th {\n",
       "        vertical-align: top;\n",
       "    }\n",
       "\n",
       "    .dataframe thead th {\n",
       "        text-align: right;\n",
       "    }\n",
       "</style>\n",
       "<table border=\"1\" class=\"dataframe\">\n",
       "  <thead>\n",
       "    <tr style=\"text-align: right;\">\n",
       "      <th></th>\n",
       "      <th>NC_Accession</th>\n",
       "      <th>Identity or Parentage</th>\n",
       "      <th>Pedigree</th>\n",
       "      <th>FAG</th>\n",
       "    </tr>\n",
       "  </thead>\n",
       "  <tbody>\n",
       "    <tr>\n",
       "      <td>0</td>\n",
       "      <td>ACI WT09-0761</td>\n",
       "      <td>ACI WT09-0761</td>\n",
       "      <td>NaN</td>\n",
       "      <td>Check</td>\n",
       "    </tr>\n",
       "    <tr>\n",
       "      <td>1</td>\n",
       "      <td>ACI WT11-0351</td>\n",
       "      <td>ACI WT11-0351</td>\n",
       "      <td>NaN</td>\n",
       "      <td>ol ol</td>\n",
       "    </tr>\n",
       "    <tr>\n",
       "      <td>2</td>\n",
       "      <td>ACI WT12-0226</td>\n",
       "      <td>ACI WT12-0226</td>\n",
       "      <td>NaN</td>\n",
       "      <td>ol ol</td>\n",
       "    </tr>\n",
       "    <tr>\n",
       "      <td>3</td>\n",
       "      <td>ACI WT12-0419</td>\n",
       "      <td>ACI WT12-0419</td>\n",
       "      <td>NaN</td>\n",
       "      <td>Check</td>\n",
       "    </tr>\n",
       "    <tr>\n",
       "      <td>4</td>\n",
       "      <td>ACI WT12-0420</td>\n",
       "      <td>ACI WT12-0420</td>\n",
       "      <td>NaN</td>\n",
       "      <td>ol ol</td>\n",
       "    </tr>\n",
       "    <tr>\n",
       "      <td>...</td>\n",
       "      <td>...</td>\n",
       "      <td>...</td>\n",
       "      <td>...</td>\n",
       "      <td>...</td>\n",
       "    </tr>\n",
       "    <tr>\n",
       "      <td>854</td>\n",
       "      <td>NaN</td>\n",
       "      <td>NaN</td>\n",
       "      <td>NaN</td>\n",
       "      <td>NaN</td>\n",
       "    </tr>\n",
       "    <tr>\n",
       "      <td>855</td>\n",
       "      <td>NaN</td>\n",
       "      <td>NaN</td>\n",
       "      <td>NaN</td>\n",
       "      <td>NaN</td>\n",
       "    </tr>\n",
       "    <tr>\n",
       "      <td>856</td>\n",
       "      <td>NaN</td>\n",
       "      <td>NaN</td>\n",
       "      <td>NaN</td>\n",
       "      <td>NaN</td>\n",
       "    </tr>\n",
       "    <tr>\n",
       "      <td>857</td>\n",
       "      <td>NaN</td>\n",
       "      <td>NaN</td>\n",
       "      <td>NaN</td>\n",
       "      <td>NaN</td>\n",
       "    </tr>\n",
       "    <tr>\n",
       "      <td>858</td>\n",
       "      <td>NaN</td>\n",
       "      <td>NaN</td>\n",
       "      <td>NaN</td>\n",
       "      <td>NaN</td>\n",
       "    </tr>\n",
       "  </tbody>\n",
       "</table>\n",
       "<p>859 rows × 4 columns</p>\n",
       "</div>"
      ],
      "text/plain": [
       "      NC_Accession Identity or Parentage Pedigree    FAG\n",
       "0    ACI WT09-0761         ACI WT09-0761      NaN  Check\n",
       "1    ACI WT11-0351         ACI WT11-0351      NaN  ol ol\n",
       "2    ACI WT12-0226         ACI WT12-0226      NaN  ol ol\n",
       "3    ACI WT12-0419         ACI WT12-0419      NaN  Check\n",
       "4    ACI WT12-0420         ACI WT12-0420      NaN  ol ol\n",
       "..             ...                   ...      ...    ...\n",
       "854            NaN                   NaN      NaN    NaN\n",
       "855            NaN                   NaN      NaN    NaN\n",
       "856            NaN                   NaN      NaN    NaN\n",
       "857            NaN                   NaN      NaN    NaN\n",
       "858            NaN                   NaN      NaN    NaN\n",
       "\n",
       "[859 rows x 4 columns]"
      ]
     },
     "execution_count": 13,
     "metadata": {},
     "output_type": "execute_result"
    }
   ],
   "source": [
    "# Check the export\n",
    "pd.read_csv('export_ex.csv')"
   ]
  },
  {
   "cell_type": "markdown",
   "metadata": {},
   "source": [
    "## Delimiters for Input & Output\n",
    "\n",
    "Similar to R, the delimiters in Pandas dataframes can be set to input files appropriately. Use the sep = arguement within the Pandas method **to_csv()** to set the delimiter. Use the Pandas method read_table that pulls in tab delimited files with sep = '\\t' by default"
   ]
  },
  {
   "cell_type": "code",
   "execution_count": 14,
   "metadata": {},
   "outputs": [],
   "source": [
    "# Set delimiter as <Tab> - The tab delimiter is denoted as '\\t'\n",
    "df.to_csv('export_ex.txt', index=False, sep='\\t')"
   ]
  },
  {
   "cell_type": "code",
   "execution_count": 15,
   "metadata": {},
   "outputs": [
    {
     "data": {
      "text/html": [
       "<div>\n",
       "<style scoped>\n",
       "    .dataframe tbody tr th:only-of-type {\n",
       "        vertical-align: middle;\n",
       "    }\n",
       "\n",
       "    .dataframe tbody tr th {\n",
       "        vertical-align: top;\n",
       "    }\n",
       "\n",
       "    .dataframe thead th {\n",
       "        text-align: right;\n",
       "    }\n",
       "</style>\n",
       "<table border=\"1\" class=\"dataframe\">\n",
       "  <thead>\n",
       "    <tr style=\"text-align: right;\">\n",
       "      <th></th>\n",
       "      <th>NC_Accession</th>\n",
       "      <th>Identity or Parentage</th>\n",
       "      <th>Pedigree</th>\n",
       "      <th>FAG</th>\n",
       "    </tr>\n",
       "  </thead>\n",
       "  <tbody>\n",
       "    <tr>\n",
       "      <td>0</td>\n",
       "      <td>ACI WT09-0761</td>\n",
       "      <td>ACI WT09-0761</td>\n",
       "      <td>NaN</td>\n",
       "      <td>Check</td>\n",
       "    </tr>\n",
       "    <tr>\n",
       "      <td>1</td>\n",
       "      <td>ACI WT11-0351</td>\n",
       "      <td>ACI WT11-0351</td>\n",
       "      <td>NaN</td>\n",
       "      <td>ol ol</td>\n",
       "    </tr>\n",
       "    <tr>\n",
       "      <td>2</td>\n",
       "      <td>ACI WT12-0226</td>\n",
       "      <td>ACI WT12-0226</td>\n",
       "      <td>NaN</td>\n",
       "      <td>ol ol</td>\n",
       "    </tr>\n",
       "    <tr>\n",
       "      <td>3</td>\n",
       "      <td>ACI WT12-0419</td>\n",
       "      <td>ACI WT12-0419</td>\n",
       "      <td>NaN</td>\n",
       "      <td>Check</td>\n",
       "    </tr>\n",
       "    <tr>\n",
       "      <td>4</td>\n",
       "      <td>ACI WT12-0420</td>\n",
       "      <td>ACI WT12-0420</td>\n",
       "      <td>NaN</td>\n",
       "      <td>ol ol</td>\n",
       "    </tr>\n",
       "    <tr>\n",
       "      <td>...</td>\n",
       "      <td>...</td>\n",
       "      <td>...</td>\n",
       "      <td>...</td>\n",
       "      <td>...</td>\n",
       "    </tr>\n",
       "    <tr>\n",
       "      <td>854</td>\n",
       "      <td>NaN</td>\n",
       "      <td>NaN</td>\n",
       "      <td>NaN</td>\n",
       "      <td>NaN</td>\n",
       "    </tr>\n",
       "    <tr>\n",
       "      <td>855</td>\n",
       "      <td>NaN</td>\n",
       "      <td>NaN</td>\n",
       "      <td>NaN</td>\n",
       "      <td>NaN</td>\n",
       "    </tr>\n",
       "    <tr>\n",
       "      <td>856</td>\n",
       "      <td>NaN</td>\n",
       "      <td>NaN</td>\n",
       "      <td>NaN</td>\n",
       "      <td>NaN</td>\n",
       "    </tr>\n",
       "    <tr>\n",
       "      <td>857</td>\n",
       "      <td>NaN</td>\n",
       "      <td>NaN</td>\n",
       "      <td>NaN</td>\n",
       "      <td>NaN</td>\n",
       "    </tr>\n",
       "    <tr>\n",
       "      <td>858</td>\n",
       "      <td>NaN</td>\n",
       "      <td>NaN</td>\n",
       "      <td>NaN</td>\n",
       "      <td>NaN</td>\n",
       "    </tr>\n",
       "  </tbody>\n",
       "</table>\n",
       "<p>859 rows × 4 columns</p>\n",
       "</div>"
      ],
      "text/plain": [
       "      NC_Accession Identity or Parentage Pedigree    FAG\n",
       "0    ACI WT09-0761         ACI WT09-0761      NaN  Check\n",
       "1    ACI WT11-0351         ACI WT11-0351      NaN  ol ol\n",
       "2    ACI WT12-0226         ACI WT12-0226      NaN  ol ol\n",
       "3    ACI WT12-0419         ACI WT12-0419      NaN  Check\n",
       "4    ACI WT12-0420         ACI WT12-0420      NaN  ol ol\n",
       "..             ...                   ...      ...    ...\n",
       "854            NaN                   NaN      NaN    NaN\n",
       "855            NaN                   NaN      NaN    NaN\n",
       "856            NaN                   NaN      NaN    NaN\n",
       "857            NaN                   NaN      NaN    NaN\n",
       "858            NaN                   NaN      NaN    NaN\n",
       "\n",
       "[859 rows x 4 columns]"
      ]
     },
     "execution_count": 15,
     "metadata": {},
     "output_type": "execute_result"
    }
   ],
   "source": [
    "pd.read_table('export_ex.txt')"
   ]
  },
  {
   "cell_type": "markdown",
   "metadata": {},
   "source": [
    "NOTE: The read_csv and read_table automatically set the first row as the column headers. To define the row that contains the column rows, use the header= arguement and enter the index row that contains the column names\n",
    "\n",
    "pd.read_table('export_ex.txt', header=0)\n",
    "\n",
    "Where 0 indexes the first row of the dataframe"
   ]
  },
  {
   "cell_type": "markdown",
   "metadata": {},
   "source": [
    "# <font color='red'>Excel Input & Output</font>\n",
    "\n",
    "Pandas can read and write excel files, keep in mind, this only imports data. Not formulas or images, having images or macros may cause this read_excel method to crash."
   ]
  },
  {
   "cell_type": "code",
   "execution_count": 16,
   "metadata": {},
   "outputs": [
    {
     "data": {
      "text/plain": [
       "['NCSU Breeding Lines', 'NCSU Yield Trials', 'NCSU Grading Trials']"
      ]
     },
     "execution_count": 16,
     "metadata": {},
     "output_type": "execute_result"
    }
   ],
   "source": [
    "# Get the sheet names of the peanut database file\n",
    "pd.ExcelFile('Peanut Database.xlsx').sheet_names"
   ]
  },
  {
   "cell_type": "code",
   "execution_count": 26,
   "metadata": {},
   "outputs": [],
   "source": [
    "# Read the NCSU Breeding Lines information\n",
    "df = pd.read_excel('Peanut Database.xlsx', sheet_name='NCSU Breeding Lines')"
   ]
  },
  {
   "cell_type": "markdown",
   "metadata": {},
   "source": [
    "## Export Excel Files\n",
    "\n",
    "Use the Pandas method **to_excel()** to output the excel files"
   ]
  },
  {
   "cell_type": "code",
   "execution_count": 18,
   "metadata": {},
   "outputs": [],
   "source": [
    "df.to_excel('example_excel.xlsx', index=False, sheet_name='test')"
   ]
  },
  {
   "cell_type": "markdown",
   "metadata": {},
   "source": [
    "## HTML\n",
    "\n",
    "Bonus - Pandas read_html function will read tables off of webpages and return a list of dataframe objects"
   ]
  },
  {
   "cell_type": "code",
   "execution_count": 19,
   "metadata": {},
   "outputs": [],
   "source": [
    "df = pd.read_html('https://www.fdic.gov/Bank/individual/failed/banklist.html')"
   ]
  },
  {
   "cell_type": "code",
   "execution_count": 20,
   "metadata": {},
   "outputs": [
    {
     "data": {
      "text/html": [
       "<div>\n",
       "<style scoped>\n",
       "    .dataframe tbody tr th:only-of-type {\n",
       "        vertical-align: middle;\n",
       "    }\n",
       "\n",
       "    .dataframe tbody tr th {\n",
       "        vertical-align: top;\n",
       "    }\n",
       "\n",
       "    .dataframe thead th {\n",
       "        text-align: right;\n",
       "    }\n",
       "</style>\n",
       "<table border=\"1\" class=\"dataframe\">\n",
       "  <thead>\n",
       "    <tr style=\"text-align: right;\">\n",
       "      <th></th>\n",
       "      <th>Bank Name</th>\n",
       "      <th>City</th>\n",
       "      <th>ST</th>\n",
       "      <th>CERT</th>\n",
       "      <th>Acquiring Institution</th>\n",
       "      <th>Closing Date</th>\n",
       "      <th>Updated Date</th>\n",
       "    </tr>\n",
       "  </thead>\n",
       "  <tbody>\n",
       "    <tr>\n",
       "      <td>0</td>\n",
       "      <td>The Enloe State Bank</td>\n",
       "      <td>Cooper</td>\n",
       "      <td>TX</td>\n",
       "      <td>10716</td>\n",
       "      <td>Legend Bank, N. A.</td>\n",
       "      <td>May 31, 2019</td>\n",
       "      <td>August 22, 2019</td>\n",
       "    </tr>\n",
       "    <tr>\n",
       "      <td>1</td>\n",
       "      <td>Washington Federal Bank for Savings</td>\n",
       "      <td>Chicago</td>\n",
       "      <td>IL</td>\n",
       "      <td>30570</td>\n",
       "      <td>Royal Savings Bank</td>\n",
       "      <td>December 15, 2017</td>\n",
       "      <td>July 24, 2019</td>\n",
       "    </tr>\n",
       "    <tr>\n",
       "      <td>2</td>\n",
       "      <td>The Farmers and Merchants State Bank of Argonia</td>\n",
       "      <td>Argonia</td>\n",
       "      <td>KS</td>\n",
       "      <td>17719</td>\n",
       "      <td>Conway Bank</td>\n",
       "      <td>October 13, 2017</td>\n",
       "      <td>August 12, 2019</td>\n",
       "    </tr>\n",
       "    <tr>\n",
       "      <td>3</td>\n",
       "      <td>Fayette County Bank</td>\n",
       "      <td>Saint Elmo</td>\n",
       "      <td>IL</td>\n",
       "      <td>1802</td>\n",
       "      <td>United Fidelity Bank, fsb</td>\n",
       "      <td>May 26, 2017</td>\n",
       "      <td>January 29, 2019</td>\n",
       "    </tr>\n",
       "    <tr>\n",
       "      <td>4</td>\n",
       "      <td>Guaranty Bank, (d/b/a BestBank in Georgia &amp; Mi...</td>\n",
       "      <td>Milwaukee</td>\n",
       "      <td>WI</td>\n",
       "      <td>30003</td>\n",
       "      <td>First-Citizens Bank &amp; Trust Company</td>\n",
       "      <td>May 5, 2017</td>\n",
       "      <td>March 22, 2018</td>\n",
       "    </tr>\n",
       "    <tr>\n",
       "      <td>...</td>\n",
       "      <td>...</td>\n",
       "      <td>...</td>\n",
       "      <td>...</td>\n",
       "      <td>...</td>\n",
       "      <td>...</td>\n",
       "      <td>...</td>\n",
       "      <td>...</td>\n",
       "    </tr>\n",
       "    <tr>\n",
       "      <td>551</td>\n",
       "      <td>Superior Bank, FSB</td>\n",
       "      <td>Hinsdale</td>\n",
       "      <td>IL</td>\n",
       "      <td>32646</td>\n",
       "      <td>Superior Federal, FSB</td>\n",
       "      <td>July 27, 2001</td>\n",
       "      <td>August 19, 2014</td>\n",
       "    </tr>\n",
       "    <tr>\n",
       "      <td>552</td>\n",
       "      <td>Malta National Bank</td>\n",
       "      <td>Malta</td>\n",
       "      <td>OH</td>\n",
       "      <td>6629</td>\n",
       "      <td>North Valley Bank</td>\n",
       "      <td>May 3, 2001</td>\n",
       "      <td>November 18, 2002</td>\n",
       "    </tr>\n",
       "    <tr>\n",
       "      <td>553</td>\n",
       "      <td>First Alliance Bank &amp; Trust Co.</td>\n",
       "      <td>Manchester</td>\n",
       "      <td>NH</td>\n",
       "      <td>34264</td>\n",
       "      <td>Southern New Hampshire Bank &amp; Trust</td>\n",
       "      <td>February 2, 2001</td>\n",
       "      <td>February 18, 2003</td>\n",
       "    </tr>\n",
       "    <tr>\n",
       "      <td>554</td>\n",
       "      <td>National State Bank of Metropolis</td>\n",
       "      <td>Metropolis</td>\n",
       "      <td>IL</td>\n",
       "      <td>3815</td>\n",
       "      <td>Banterra Bank of Marion</td>\n",
       "      <td>December 14, 2000</td>\n",
       "      <td>March 17, 2005</td>\n",
       "    </tr>\n",
       "    <tr>\n",
       "      <td>555</td>\n",
       "      <td>Bank of Honolulu</td>\n",
       "      <td>Honolulu</td>\n",
       "      <td>HI</td>\n",
       "      <td>21029</td>\n",
       "      <td>Bank of the Orient</td>\n",
       "      <td>October 13, 2000</td>\n",
       "      <td>March 17, 2005</td>\n",
       "    </tr>\n",
       "  </tbody>\n",
       "</table>\n",
       "<p>556 rows × 7 columns</p>\n",
       "</div>"
      ],
      "text/plain": [
       "                                             Bank Name        City  ST   CERT  \\\n",
       "0                                 The Enloe State Bank      Cooper  TX  10716   \n",
       "1                  Washington Federal Bank for Savings     Chicago  IL  30570   \n",
       "2      The Farmers and Merchants State Bank of Argonia     Argonia  KS  17719   \n",
       "3                                  Fayette County Bank  Saint Elmo  IL   1802   \n",
       "4    Guaranty Bank, (d/b/a BestBank in Georgia & Mi...   Milwaukee  WI  30003   \n",
       "..                                                 ...         ...  ..    ...   \n",
       "551                                 Superior Bank, FSB    Hinsdale  IL  32646   \n",
       "552                                Malta National Bank       Malta  OH   6629   \n",
       "553                    First Alliance Bank & Trust Co.  Manchester  NH  34264   \n",
       "554                  National State Bank of Metropolis  Metropolis  IL   3815   \n",
       "555                                   Bank of Honolulu    Honolulu  HI  21029   \n",
       "\n",
       "                   Acquiring Institution       Closing Date       Updated Date  \n",
       "0                     Legend Bank, N. A.       May 31, 2019    August 22, 2019  \n",
       "1                     Royal Savings Bank  December 15, 2017      July 24, 2019  \n",
       "2                            Conway Bank   October 13, 2017    August 12, 2019  \n",
       "3              United Fidelity Bank, fsb       May 26, 2017   January 29, 2019  \n",
       "4    First-Citizens Bank & Trust Company        May 5, 2017     March 22, 2018  \n",
       "..                                   ...                ...                ...  \n",
       "551                Superior Federal, FSB      July 27, 2001    August 19, 2014  \n",
       "552                    North Valley Bank        May 3, 2001  November 18, 2002  \n",
       "553  Southern New Hampshire Bank & Trust   February 2, 2001  February 18, 2003  \n",
       "554              Banterra Bank of Marion  December 14, 2000     March 17, 2005  \n",
       "555                   Bank of the Orient   October 13, 2000     March 17, 2005  \n",
       "\n",
       "[556 rows x 7 columns]"
      ]
     },
     "execution_count": 20,
     "metadata": {},
     "output_type": "execute_result"
    }
   ],
   "source": [
    "df[0]"
   ]
  },
  {
   "cell_type": "markdown",
   "metadata": {},
   "source": [
    "# <font color='red'>SQL with Python</font>\n",
    "\n",
    "The pandas.io.sql module provides a collection of query wrappers to both facilitate data retrieval and to reduce dependency on DB-specific API. Database abstraction is provided by SQLAlchemy if installed. In addition you will need a driver library for your database. Examples of such drivers are psycopg2 for PostgreSQL or pymysql for MySQL. For SQLite this is included in Python’s standard library by default. You can find an overview of supported drivers for each SQL dialect in the SQLAlchemy docs.\n",
    "\n",
    "If SQLAlchemy is not installed, a fallback is only provided for sqlite (and for mysql for backwards compatibility, but this is deprecated and will be removed in a future version). This mode requires a Python database adapter which respect the Python DB-API.\n",
    "\n",
    "See also some cookbook examples for some advanced strategies.\n",
    "\n",
    "The key functions are:\n",
    "\n",
    "read_sql_table(table_name, con[, schema, ...])\n",
    "Read SQL database table into a DataFrame.\n",
    "read_sql_query(sql, con[, index_col, ...])\n",
    "Read SQL query into a DataFrame.\n",
    "read_sql(sql, con[, index_col, ...])\n",
    "Read SQL query or database table into a DataFrame.\n",
    "DataFrame.to_sql(name, con[, flavor, ...])\n",
    "Write records stored in a DataFrame to a SQL database."
   ]
  },
  {
   "cell_type": "code",
   "execution_count": 21,
   "metadata": {},
   "outputs": [],
   "source": [
    "# Import the engine creator for SQL lite\n",
    "from sqlalchemy import create_engine"
   ]
  },
  {
   "cell_type": "code",
   "execution_count": 22,
   "metadata": {},
   "outputs": [],
   "source": [
    "engine = create_engine('sqlite:///:memory:')"
   ]
  },
  {
   "cell_type": "code",
   "execution_count": 27,
   "metadata": {},
   "outputs": [],
   "source": [
    "# Read the NCSU Breeding Lines information\n",
    "df = pd.read_excel('Peanut Database.xlsx', sheet_name='NCSU Breeding Lines')"
   ]
  },
  {
   "cell_type": "code",
   "execution_count": 28,
   "metadata": {},
   "outputs": [],
   "source": [
    "df.to_sql('data', engine, index=False)"
   ]
  },
  {
   "cell_type": "code",
   "execution_count": 29,
   "metadata": {},
   "outputs": [],
   "source": [
    "sql_df = pd.read_sql('data',con=engine)"
   ]
  },
  {
   "cell_type": "code",
   "execution_count": 25,
   "metadata": {},
   "outputs": [
    {
     "ename": "NameError",
     "evalue": "name 'sql_df' is not defined",
     "output_type": "error",
     "traceback": [
      "\u001b[1;31m---------------------------------------------------------------------------\u001b[0m",
      "\u001b[1;31mNameError\u001b[0m                                 Traceback (most recent call last)",
      "\u001b[1;32m<ipython-input-25-95225515a3de>\u001b[0m in \u001b[0;36m<module>\u001b[1;34m\u001b[0m\n\u001b[1;32m----> 1\u001b[1;33m \u001b[0msql_df\u001b[0m\u001b[1;33m\u001b[0m\u001b[1;33m\u001b[0m\u001b[0m\n\u001b[0m",
      "\u001b[1;31mNameError\u001b[0m: name 'sql_df' is not defined"
     ]
    }
   ],
   "source": [
    "sql_df"
   ]
  },
  {
   "cell_type": "markdown",
   "metadata": {},
   "source": [
    "# <font color='red'>Webscraping with Python</font>\n",
    "\n",
    "Web Scraping in general is almost always going to be unique to your personal use case, this is because every website is different, updates occur, and things can change. To fully understand webscraping in Python, you'll need to understand HTML and CSS in order to know what you are trying to grab off the website\n",
    "\n",
    "Let's go through an example using the library **requests** and **beautifulsoup**"
   ]
  },
  {
   "cell_type": "code",
   "execution_count": null,
   "metadata": {},
   "outputs": [],
   "source": [
    "# Import the libraries Requests and Beautifulsoup\n",
    "import requests\n",
    "from bs4 import BeautifulSoup"
   ]
  },
  {
   "cell_type": "code",
   "execution_count": null,
   "metadata": {},
   "outputs": [],
   "source": [
    "# Use requests.get to pull the information from the national gallery of arts\n",
    "page = requests.get('https://web.archive.org/web/20121007172955/https://www.nga.gov/collection/anZ1.htm')"
   ]
  },
  {
   "cell_type": "code",
   "execution_count": null,
   "metadata": {},
   "outputs": [],
   "source": [
    "# Use BeautifulSoup to parse the html object\n",
    "soup = BeautifulSoup(page.text, 'html.parser')"
   ]
  },
  {
   "cell_type": "code",
   "execution_count": null,
   "metadata": {},
   "outputs": [],
   "source": [
    "# Pull all of the text from the BodyText div\n",
    "# This can be done by inspecting the developer tools for the HTM page\n",
    "# Right click on the page, select 'Inspect' to see the html code\n",
    "artist_name_list = soup.find(class_='BodyText')\n",
    "artist_name_list"
   ]
  },
  {
   "cell_type": "code",
   "execution_count": null,
   "metadata": {},
   "outputs": [],
   "source": [
    "artist_name_list_items = artist_name_list.find_all('a')\n",
    "artist_name_list_items"
   ]
  },
  {
   "cell_type": "code",
   "execution_count": null,
   "metadata": {},
   "outputs": [],
   "source": [
    "# Pull just the artists names - Don't worry about understanding the list comprehension (for...)\n",
    "# This will be covered in a later lecture of the semester\n",
    "for artist_name in artist_name_list_items:\n",
    "    names = artist_name.contents[0]\n",
    "    print(names)"
   ]
  }
 ],
 "metadata": {
  "kernelspec": {
   "display_name": "Python 3",
   "language": "python",
   "name": "python3"
  },
  "language_info": {
   "codemirror_mode": {
    "name": "ipython",
    "version": 3
   },
   "file_extension": ".py",
   "mimetype": "text/x-python",
   "name": "python",
   "nbconvert_exporter": "python",
   "pygments_lexer": "ipython3",
   "version": "3.7.3"
  }
 },
 "nbformat": 4,
 "nbformat_minor": 2
}
